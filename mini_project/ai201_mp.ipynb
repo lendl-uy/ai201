{
 "cells": [
  {
   "cell_type": "markdown",
   "metadata": {},
   "source": [
    "# AI 201 Mini Project\n",
    "## Coffee Match: Leveraging Machine Learning for Coffee Bean Recommendations Using Taste Profiles\n",
    "\n",
    "Submitted by: \n",
    "Jan Lendl R. Uy, 2019-00312"
   ]
  },
  {
   "cell_type": "code",
   "execution_count": 1,
   "metadata": {},
   "outputs": [],
   "source": [
    "# CONSTANTS\n",
    "\n",
    "# Relative path to the input file\n",
    "INPUT_FILE_PATH = \"astar_in.txt\"\n",
    "\n",
    "# Set a maximum number of iterations for A* to avoid infinite \n",
    "# loop if there is no solution\n",
    "MAX_A_STAR_ITERATIONS = 50000"
   ]
  }
 ],
 "metadata": {
  "kernelspec": {
   "display_name": ".venv",
   "language": "python",
   "name": "python3"
  },
  "language_info": {
   "codemirror_mode": {
    "name": "ipython",
    "version": 3
   },
   "file_extension": ".py",
   "mimetype": "text/x-python",
   "name": "python",
   "nbconvert_exporter": "python",
   "pygments_lexer": "ipython3",
   "version": "3.11.9"
  }
 },
 "nbformat": 4,
 "nbformat_minor": 2
}
