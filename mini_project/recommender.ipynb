{
 "cells": [
  {
   "cell_type": "markdown",
   "metadata": {},
   "source": [
    "# AI 201 Mini Project\n",
    "## Coffee Match: Leveraging Machine Learning for Coffee Bean Recommendations Using Taste Profiles\n",
    "### Recommender Model Implementation\n",
    "\n",
    "Submitted by: \n",
    "Jan Lendl R. Uy, 2019-00312"
   ]
  },
  {
   "cell_type": "code",
   "execution_count": 15,
   "metadata": {},
   "outputs": [],
   "source": [
    "import pandas as pd\n",
    "import numpy as np\n",
    "from sklearn.preprocessing import StandardScaler, LabelEncoder\n",
    "from sklearn.decomposition import TruncatedSVD, NMF\n",
    "from sklearn.metrics.pairwise import cosine_similarity\n",
    "from sklearn.model_selection import train_test_split"
   ]
  },
  {
   "cell_type": "code",
   "execution_count": 16,
   "metadata": {},
   "outputs": [
    {
     "name": "stdout",
     "output_type": "stream",
     "text": [
      "Shape of exported data: (1339, 33)\n",
      "\n",
      "Columns in exported data: ['species', 'country_of_origin', 'farm_name', 'mill', 'company', 'region', 'producer', 'number_of_bags', 'bag_weight', 'harvest_year', 'grading_date', 'owner_1', 'variety', 'processing_method', 'aroma', 'flavor', 'aftertaste', 'acidity', 'body', 'balance', 'uniformity', 'clean_cup', 'sweetness', 'cupper_points', 'total_cup_points', 'moisture', 'category_one_defects', 'quakers', 'color', 'category_two_defects', 'certification_body', 'altitude_mean_meters', 'harvest_year_standardized']\n",
      "\n",
      "First few rows of exported data:\n",
      "   species country_of_origin                                 farm_name  \\\n",
      "0  Arabica          Ethiopia                                 metad plc   \n",
      "1  Arabica          Ethiopia                                 metad plc   \n",
      "2  Arabica         Guatemala  san marcos barrancas \"san cristobal cuch   \n",
      "3  Arabica          Ethiopia     yidnekachew dabessa coffee plantation   \n",
      "4  Arabica          Ethiopia                                 metad plc   \n",
      "\n",
      "        mill                                company        region  \\\n",
      "0  metad plc      metad agricultural developmet plc  guji-hambela   \n",
      "1  metad plc      metad agricultural developmet plc  guji-hambela   \n",
      "2        NaN                                    NaN           NaN   \n",
      "3    wolensu  yidnekachew debessa coffee plantation        oromia   \n",
      "4  metad plc      metad agricultural developmet plc  guji-hambela   \n",
      "\n",
      "                                producer  number_of_bags bag_weight  \\\n",
      "0                              METAD PLC             300      60 kg   \n",
      "1                              METAD PLC             300      60 kg   \n",
      "2                                    NaN               5          1   \n",
      "3  Yidnekachew Dabessa Coffee Plantation             320      60 kg   \n",
      "4                              METAD PLC             300      60 kg   \n",
      "\n",
      "  harvest_year  ... cupper_points total_cup_points moisture  \\\n",
      "0         2014  ...          8.75            90.58     0.12   \n",
      "1         2014  ...          8.58            89.92     0.12   \n",
      "2          NaN  ...          9.25            89.75     0.00   \n",
      "3         2014  ...          8.67            89.00     0.11   \n",
      "4         2014  ...          8.58            88.83     0.12   \n",
      "\n",
      "  category_one_defects  quakers  color  category_two_defects  \\\n",
      "0                    0      0.0  Green                     0   \n",
      "1                    0      0.0  Green                     1   \n",
      "2                    0      0.0    NaN                     0   \n",
      "3                    0      0.0  Green                     2   \n",
      "4                    0      0.0  Green                     2   \n",
      "\n",
      "                   certification_body  altitude_mean_meters  \\\n",
      "0  METAD Agricultural Development plc                2075.0   \n",
      "1  METAD Agricultural Development plc                2075.0   \n",
      "2        Specialty Coffee Association                1700.0   \n",
      "3  METAD Agricultural Development plc                2000.0   \n",
      "4  METAD Agricultural Development plc                2075.0   \n",
      "\n",
      "   harvest_year_standardized  \n",
      "0                     2014.0  \n",
      "1                     2014.0  \n",
      "2                        NaN  \n",
      "3                     2014.0  \n",
      "4                     2014.0  \n",
      "\n",
      "[5 rows x 33 columns]\n"
     ]
    }
   ],
   "source": [
    "# Read the cleaned dataset\n",
    "df = pd.read_csv('datasets/preprocessed_coffee_data.csv')\n",
    "print(\"Shape of exported data:\", df.shape)\n",
    "print(\"\\nColumns in exported data:\", df.columns.tolist())\n",
    "print(\"\\nFirst few rows of exported data:\")\n",
    "print(df.head())"
   ]
  },
  {
   "cell_type": "code",
   "execution_count": 17,
   "metadata": {},
   "outputs": [],
   "source": [
    "# 1. Data Preparation\n",
    "# Define feature columns (X) and label columns (y)\n",
    "feature_cols = ['aroma', 'flavor', 'aftertaste', 'acidity', 'body', \n",
    "                'balance', 'uniformity', 'clean_cup', 'sweetness']\n",
    "label_cols = ['country_of_origin', 'species', 'variety', 'processing_method']\n",
    "\n",
    "X = df[feature_cols].values\n",
    "y  = df[label_cols].values\n",
    "\n",
    "X_train, X_test, y_train, y_test = train_test_split(X, y, test_size=0.2, random_state=0)\n",
    "\n",
    "# Scale features\n",
    "scaler = StandardScaler()\n",
    "X_train_scaled = scaler.fit_transform(X_train)\n",
    "X_test_scaled = scaler.transform(X_test)"
   ]
  },
  {
   "cell_type": "code",
   "execution_count": 18,
   "metadata": {},
   "outputs": [],
   "source": [
    "svd = TruncatedSVD(n_components=5, random_state=0)\n",
    "X_train_svd = svd.fit_transform(X_train_scaled)\n",
    "\n",
    "X_train_shifted = X_train_scaled - X_train_scaled.min()\n",
    "nmf = NMF(n_components=5, random_state=0)\n",
    "X_train_nmf = nmf.fit_transform(X_train_shifted)"
   ]
  }
 ],
 "metadata": {
  "kernelspec": {
   "display_name": ".venv",
   "language": "python",
   "name": "python3"
  },
  "language_info": {
   "codemirror_mode": {
    "name": "ipython",
    "version": 3
   },
   "file_extension": ".py",
   "mimetype": "text/x-python",
   "name": "python",
   "nbconvert_exporter": "python",
   "pygments_lexer": "ipython3",
   "version": "3.11.9"
  }
 },
 "nbformat": 4,
 "nbformat_minor": 2
}
