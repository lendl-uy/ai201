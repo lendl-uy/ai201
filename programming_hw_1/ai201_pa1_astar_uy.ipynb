{
 "cells": [
  {
   "cell_type": "markdown",
   "metadata": {},
   "source": [
    "# AI 201 Programming Assignment 1\n",
    "## A* Algorithm Implementation\n",
    "\n",
    "Submitted by: \n",
    "Jan Lendl R. Uy, 2019-00312\n",
    "\n",
    "### Notebook Prerequisites\n",
    "Install the following Python modules, if not yet installed:\n",
    "1. numpy"
   ]
  },
  {
   "cell_type": "code",
   "execution_count": 11,
   "metadata": {},
   "outputs": [],
   "source": [
    "import heapq"
   ]
  },
  {
   "cell_type": "code",
   "execution_count": 12,
   "metadata": {},
   "outputs": [],
   "source": [
    "# CONSTANTS\n",
    "INPUT_FILE_PATH = \"astar_in.txt\""
   ]
  },
  {
   "cell_type": "code",
   "execution_count": 13,
   "metadata": {},
   "outputs": [
    {
     "name": "stdout",
     "output_type": "stream",
     "text": [
      "Start State: [[2, 1, 6], [4, '*', 8], [7, 5, 3]]\n",
      "Goal State: [[1, 2, 3], [8, '*', 4], [7, 6, 5]]\n"
     ]
    }
   ],
   "source": [
    "def read_file(path):\n",
    "    \n",
    "    with open(path, \"r\") as file:\n",
    "        lines = file.readlines()\n",
    "\n",
    "    # Initialize lists to store the start state and goal state\n",
    "    start_state = []\n",
    "    goal_state = []\n",
    "\n",
    "    # Initialize a flag to keep track if following tiles belong to the start\n",
    "    # or the goal state\n",
    "    reading_part = None\n",
    "\n",
    "    for line in lines:\n",
    "        line = line.strip() # Remove leading/trailing whitespace\n",
    "        if line == \"start\":\n",
    "            reading_part = \"start\"\n",
    "        elif line == \"goal\":\n",
    "            reading_part = \"goal\"\n",
    "        elif line and reading_part:\n",
    "            # Convert line into a list, handling '*' and converting numbers to integers\n",
    "            line_list = [int(x) if x.isdigit() else x for x in line.split()]\n",
    "            if reading_part == \"start\":\n",
    "                start_state.append(line_list)\n",
    "            elif reading_part == \"goal\":\n",
    "                goal_state.append(line_list)\n",
    "\n",
    "    return start_state, goal_state\n",
    "\n",
    "start, goal = read_file(INPUT_FILE_PATH)\n",
    "print(f\"Start State: {start}\")\n",
    "print(f\"Goal State: {goal}\")"
   ]
  },
  {
   "cell_type": "code",
   "execution_count": null,
   "metadata": {},
   "outputs": [],
   "source": []
  }
 ],
 "metadata": {
  "kernelspec": {
   "display_name": "Python 3",
   "language": "python",
   "name": "python3"
  },
  "language_info": {
   "codemirror_mode": {
    "name": "ipython",
    "version": 3
   },
   "file_extension": ".py",
   "mimetype": "text/x-python",
   "name": "python",
   "nbconvert_exporter": "python",
   "pygments_lexer": "ipython3",
   "version": "3.11.3"
  }
 },
 "nbformat": 4,
 "nbformat_minor": 2
}
