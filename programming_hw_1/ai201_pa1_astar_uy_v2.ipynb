{
 "cells": [
  {
   "cell_type": "markdown",
   "metadata": {},
   "source": [
    "# AI 201 Programming Assignment 1\n",
    "## A* Algorithm Implementation\n",
    "\n",
    "Submitted by: \n",
    "Jan Lendl R. Uy, 2019-00312"
   ]
  },
  {
   "cell_type": "code",
   "execution_count": 1,
   "metadata": {},
   "outputs": [],
   "source": [
    "# CONSTANTS\n",
    "\n",
    "# Relative path to the input file\n",
    "INPUT_FILE_PATH = \"astar_in.txt\"\n",
    "\n",
    "# Set a maximum number of iterations for A* to avoid infinite loop\n",
    "MAX_A_STAR_ITERATIONS = 50000"
   ]
  },
  {
   "cell_type": "markdown",
   "metadata": {
    "collapsed": false
   },
   "source": [
    "## File Handling\n",
    "This function reads an input .txt file containing the start and goal states of the puzzle then converts the puzzle contents into a two-dimensional tuple of tile values. The input file is stored in the same directory as the notebook file with the filename of \"astar_in.txt\"."
   ]
  },
  {
   "cell_type": "code",
   "execution_count": 2,
   "metadata": {
    "collapsed": false
   },
   "outputs": [],
   "source": [
    "def read_file(path):\n",
    "    \n",
    "    with open(path, \"r\") as file:\n",
    "        lines = file.readlines()\n",
    "\n",
    "    # Initialize lists to store the start state and goal state\n",
    "    start_state = []\n",
    "    goal_state = []\n",
    "\n",
    "    # Initialize a flag to keep track if following tiles belong to the start\n",
    "    # or the goal state\n",
    "    reading_part = None\n",
    "\n",
    "    for line in lines:\n",
    "        line = line.strip() # Remove leading/trailing whitespace\n",
    "        if line == \"start\":\n",
    "            reading_part = \"start\"\n",
    "        elif line == \"goal\":\n",
    "            reading_part = \"goal\"\n",
    "        elif line and reading_part:\n",
    "            # Convert line into a list, handling \"*\" and converting numbers to integers\n",
    "            line_list = [int(x) if x.isdigit() else x for x in line.split()]\n",
    "            if reading_part == \"start\":\n",
    "                start_state.append(line_list)\n",
    "            elif reading_part == \"goal\":\n",
    "                goal_state.append(line_list)\n",
    "                \n",
    "    start_state = tuple(tuple(row) for row in start_state)\n",
    "    goal_state = tuple(tuple(row) for row in goal_state)\n",
    "\n",
    "    return start_state, goal_state"
   ]
  },
  {
   "cell_type": "code",
   "execution_count": 3,
   "metadata": {},
   "outputs": [
    {
     "name": "stdout",
     "output_type": "stream",
     "text": [
      "Start State: ((2, 1, 6), (4, '*', 8), (7, 5, 3))\n",
      "Goal State: ((1, 2, 3), (8, '*', 4), (7, 6, 5))\n"
     ]
    }
   ],
   "source": [
    "start_state, goal_state = read_file(INPUT_FILE_PATH)\n",
    "print(f\"Start State: {start_state}\")\n",
    "print(f\"Goal State: {goal_state}\")"
   ]
  },
  {
   "cell_type": "markdown",
   "metadata": {
    "collapsed": false
   },
   "source": [
    "## PuzzleBoard\n",
    "This class encapsulates the puzzle as a tuple of tuples (i.e. 2D tuple).\n",
    "\n",
    "Among the operators overridden in this class are the `__str__` method to \"prettify\" the printing of the 8-puzzle and the `__eq__` and `__hash__` for checking of equal board contents. Aside from this, the following methods were implemented to simplify the operations of the game."
   ]
  },
  {
   "cell_type": "code",
   "execution_count": 4,
   "metadata": {
    "collapsed": false
   },
   "outputs": [],
   "source": [
    "class PuzzleBoard:\n",
    "    \n",
    "    def __init__(self, board):\n",
    "        self.board = board\n",
    "        \n",
    "        # Assume that the puzzle is a square\n",
    "        self.rows = len(board)\n",
    "        self.cols = len(board[0])\n",
    "        \n",
    "        self.board_as_string = self.convert_board_to_string()\n",
    "        \n",
    "    def convert_board_to_string(self):\n",
    "        if not self.board:\n",
    "            return \"Empty board\"\n",
    "        \n",
    "        board = \"\"\n",
    "\n",
    "        for i in range(self.rows):\n",
    "            board += \"| \"\n",
    "            for j in range(self.cols):\n",
    "                tile = self.board[i][j]\n",
    "                board += str(tile)\n",
    "                board += \" | \"\n",
    "            board += \"\\n\"\n",
    "            \n",
    "        return board\n",
    "\n",
    "    def __str__(self):\n",
    "                    \n",
    "        return self.board_as_string\n",
    "    \n",
    "    def __eq__(self, other):\n",
    "        if not isinstance(other, PuzzleBoard):\n",
    "            return False\n",
    "        return self.board == other.board\n",
    "\n",
    "    def __hash__(self):\n",
    "        return hash(self.board)\n",
    "    \n",
    "    def _find_empty_tile(self):\n",
    "        for i, row in enumerate(self.board):\n",
    "            for j, tile in enumerate(row):\n",
    "                if tile == \"*\":\n",
    "                    return (i, j)\n",
    "        raise ValueError(\"No empty tile found in the puzzle\")\n",
    "    \n",
    "    def get_possible_moves(self):\n",
    "        empty_row, empty_col = self._find_empty_tile()\n",
    "        possible_moves = []\n",
    "        \n",
    "        # Possible moves: up, down, left, right\n",
    "        # Tuples indicate the numbers added to the coordinates of the empty tile\n",
    "        directions = [(-1, 0), (1, 0), (0, -1), (0, 1)]\n",
    "        \n",
    "        for direction in directions:\n",
    "            new_row = empty_row + direction[0]\n",
    "            new_col = empty_col + direction[1]\n",
    "            \n",
    "            # Check if the new position is within the board\n",
    "            if 0 <= new_row < len(self.board) and 0 <= new_col < len(self.board[0]):\n",
    "                # Create a new board configuration with the move applied\n",
    "                new_board = [list(row) for row in self.board]  # Convert tuple of tuples to list of lists\n",
    "                new_board[empty_row][empty_col], new_board[new_row][new_col] = new_board[new_row][new_col], new_board[empty_row][empty_col]\n",
    "                new_board = tuple(tuple(row) for row in new_board)  # Convert back to tuple of tuples\n",
    "                \n",
    "                possible_moves.append(new_board)\n",
    "        \n",
    "        return possible_moves\n",
    "    \n",
    "    # Helper methods useful for computing the different heuristic functions h(n)\n",
    "    \n",
    "    def get_misplaced_tiles(self, goal_puzzle):\n",
    "        misplaced = 0\n",
    "        goal_state = goal_puzzle.board\n",
    "        for i in range(self.rows):\n",
    "            for j in range(self.cols):\n",
    "                if self.board[i][j] != \"*\" and self.board[i][j] != goal_state[i][j]:\n",
    "                    misplaced += 1\n",
    "        return misplaced\n",
    "    \n",
    "    def get_manhattan_distance(self, goal_puzzle):\n",
    "        total_distance = 0\n",
    "        goal_state = goal_puzzle.board\n",
    "\n",
    "        for i in range(self.rows):\n",
    "            for j in range(self.cols):\n",
    "                if self.board[i][j] != \"*\":\n",
    "                    # Find the tile's position in the goal state\n",
    "                    for gi in range(self.rows):\n",
    "                        for gj in range(self.cols):\n",
    "                            if self.board[i][j] == goal_state[gi][gj]:\n",
    "                                # Calculate Manhattan distance for this tile\n",
    "                                distance = abs(i - gi) + abs(j - gj)\n",
    "                                total_distance += distance\n",
    "                                break\n",
    "                        else:\n",
    "                            continue\n",
    "                        break\n",
    "\n",
    "        return total_distance\n",
    "    \n",
    "    def get_nilsson_sequence_score(self, goal_puzzle):\n",
    "        current_board = self.board\n",
    "        goal_board = goal_puzzle.board\n",
    "\n",
    "        manhattan_dist = self.get_manhattan_distance(goal_puzzle)\n",
    "        \n",
    "        # Flatten the boards for easier index computation\n",
    "        current_board_flat = [tile for row in current_board for tile in row]\n",
    "        goal_board_flat = [tile for row in goal_board for tile in row]\n",
    "        \n",
    "        # The correct clockwise ordering of the tiles around the periphery\n",
    "        goal_order = goal_board_flat[0:3] + [goal_board_flat[5], goal_board_flat[8], goal_board_flat[7], goal_board_flat[6], goal_board_flat[3]]\n",
    "        current_order = current_board_flat[0:3] + [current_board_flat[5], current_board_flat[8], current_board_flat[7], current_board_flat[6], current_board_flat[3]]\n",
    "\n",
    "        # Calculate sequence score\n",
    "        goal_pairs = []\n",
    "        current_pairs = []\n",
    "        sequence_score = 0\n",
    "        for i in range(-1, -len(goal_order), -1):\n",
    "            current_pair = (current_order[i], current_order[i+1])\n",
    "            goal_pair = (goal_order[i], goal_order[i+1])\n",
    "            goal_pairs.append(goal_pair)\n",
    "            if current_pair[0] == \"*\":\n",
    "                continue\n",
    "            current_pairs.append(current_pair)\n",
    "\n",
    "        for pair in current_pairs:\n",
    "            if pair not in goal_pairs:\n",
    "                sequence_score += 2\n",
    "\n",
    "        # Check the center square, add 1 if it is not the empty square\n",
    "        if current_board_flat[4] != \"*\":\n",
    "            sequence_score += 1\n",
    "        \n",
    "        # Multiply the sequence score by 3 and add the Manhattan distance\n",
    "        return 3 * sequence_score + manhattan_dist"
   ]
  },
  {
   "cell_type": "code",
   "execution_count": 5,
   "metadata": {},
   "outputs": [
    {
     "name": "stdout",
     "output_type": "stream",
     "text": [
      "Start Puzzle: \n",
      "| 2 | 1 | 6 | \n",
      "| 4 | * | 8 | \n",
      "| 7 | 5 | 3 | \n",
      "\n",
      "Goal Puzzle: \n",
      "| 1 | 2 | 3 | \n",
      "| 8 | * | 4 | \n",
      "| 7 | 6 | 5 | \n",
      "\n"
     ]
    }
   ],
   "source": [
    "start_puzzle = PuzzleBoard(start_state)\n",
    "goal_puzzle = PuzzleBoard(goal_state)\n",
    "print(f\"Start Puzzle: \\n{start_puzzle}\")\n",
    "print(f\"Goal Puzzle: \\n{goal_puzzle}\")"
   ]
  },
  {
   "cell_type": "code",
   "execution_count": 6,
   "metadata": {},
   "outputs": [],
   "source": [
    "class PuzzleSearchNode:\n",
    "\n",
    "    def __init__(self, puzzle, heuristic, g=0, parent=None):\n",
    "        self.puzzle = puzzle\n",
    "        self.parent = parent\n",
    "        self.heuristic = heuristic\n",
    "        self.g = g  # Path cost from start node to current node\n",
    "        self.h = 0  # Heuristic estimate from current node to goal\n",
    "        self.f = 0  # Total estimated path cost (g + h)\n",
    "\n",
    "    def expand(self):\n",
    "        expanded = []\n",
    "        for new_puzzle in self.puzzle.get_possible_moves():\n",
    "            # Increment path cost of child node by 1\n",
    "            child_path_cost = self.g + 1\n",
    "            child_puzzle = PuzzleBoard(new_puzzle)\n",
    "            child = PuzzleSearchNode(child_puzzle, self.heuristic, child_path_cost, self)\n",
    "            expanded.append(child)\n",
    "        return expanded\n",
    "\n",
    "    def compute_costs(self, goal_node):\n",
    "        goal_puzzle = goal_node.puzzle\n",
    "        if self.heuristic == \"misplaced\":\n",
    "            self.h = self.puzzle.get_misplaced_tiles(goal_puzzle)\n",
    "        elif self.heuristic == \"manhattan\":\n",
    "            self.h = self.puzzle.get_manhattan_distance(goal_puzzle)\n",
    "        elif self.heuristic == \"nilsson\":\n",
    "            self.h = self.puzzle.get_nilsson_sequence_score(goal_puzzle)\n",
    "        self.f = self.g + self.h\n",
    "\n",
    "    def goal_test(self, goal_node):\n",
    "        return self == goal_node\n",
    "\n",
    "    def __lt__(self, other):\n",
    "        return self.f < other.f\n",
    "\n",
    "    def __eq__(self, other):\n",
    "        return isinstance(other, PuzzleSearchNode) and self.puzzle == other.puzzle\n",
    "\n",
    "    def __hash__(self):\n",
    "        return hash(self.puzzle)"
   ]
  },
  {
   "cell_type": "code",
   "execution_count": 7,
   "metadata": {},
   "outputs": [],
   "source": [
    "def astar_search(start_puzzle, goal_puzzle, heuristic=\"misplaced\"):\n",
    "    \n",
    "    start_node = PuzzleSearchNode(start_puzzle, heuristic)\n",
    "    goal_node = PuzzleSearchNode(goal_puzzle, heuristic)\n",
    "    \n",
    "    # Compute initial costs for the start node\n",
    "    start_node.compute_costs(goal_node)\n",
    "    \n",
    "    # Initialize open and closed lists\n",
    "    open_list = [start_node]\n",
    "    closed_list = set()\n",
    "    \n",
    "    search_cost = 0\n",
    "\n",
    "    print(f\"Initial estimated path cost f = {start_node.f}\")\n",
    "    \n",
    "    for i in range(MAX_A_STAR_ITERATIONS):\n",
    "        if not open_list:\n",
    "            return \"Failed to find the goal node!\"\n",
    "        \n",
    "        # Find the node with the lowest f value\n",
    "        current_node = min(open_list)\n",
    "                \n",
    "        # If the current node is the goal node, return the goal node\n",
    "        if current_node.goal_test(goal_node):\n",
    "            print(\"Goal node found!\")\n",
    "            return i, search_cost, current_node\n",
    "        \n",
    "        # Move the current node from the open list to the closed list\n",
    "        open_list.remove(current_node)\n",
    "        closed_list.add(current_node)\n",
    "        \n",
    "        expansion = current_node.expand()\n",
    "        search_cost += len(expansion)\n",
    "                \n",
    "        # Expand the current node\n",
    "        for child_node in expansion:\n",
    "            # If the child is already in closed_list, skip this node\n",
    "            if child_node in closed_list:\n",
    "                continue\n",
    "            \n",
    "            # Compute costs for the child node\n",
    "            child_node.compute_costs(goal_node)\n",
    "            \n",
    "            # If the child is not in open_list, insert this to the list\n",
    "            if child_node not in open_list:\n",
    "                open_list.append(child_node)\n",
    "            else:\n",
    "                # If the child is already in open_list, check if this path is better\n",
    "                existing_node = open_list[open_list.index(child_node)]\n",
    "                if child_node.g < existing_node.g:\n",
    "                    # This path is better, so update the node\n",
    "                    existing_node.g = child_node.g\n",
    "                    existing_node.f = child_node.f\n",
    "                    existing_node.parent = current_node\n",
    "        \n",
    "        # print(f\"\"\"\n",
    "        #       Iteration {i+1}:\n",
    "        #         Current f = {current_node.f}\n",
    "        #         Open list size: {len(open_list)}\n",
    "        #         Closed list size: {len(closed_list)}\n",
    "        #       \"\"\"\n",
    "        # )\n",
    "        \n",
    "    return f\"Failed to find a solution within {MAX_A_STAR_ITERATIONS} iterations!\"\n",
    "\n",
    "def get_solution(goal_node):\n",
    "    solution = [goal_node]\n",
    "    current_node = goal_node\n",
    "    while True:\n",
    "        current_node = current_node.parent\n",
    "        if current_node == None:\n",
    "            break\n",
    "        solution.append(current_node)\n",
    "    solution.reverse()\n",
    "    return solution"
   ]
  },
  {
   "cell_type": "code",
   "execution_count": 8,
   "metadata": {},
   "outputs": [
    {
     "name": "stdout",
     "output_type": "stream",
     "text": [
      "Initial estimated path cost f = 7\n",
      "Goal node found!\n",
      "Solution found for 1746 iterations of A* search. Heuristic function is the number of misplaced tiles.\n"
     ]
    }
   ],
   "source": [
    "iters_misplaced, search_cost_misplaced, result_misplaced = astar_search(start_puzzle, goal_puzzle)\n",
    "print(f\"Solution found for {iters_misplaced} iterations of A* search. Heuristic function is the number of misplaced tiles.\")"
   ]
  },
  {
   "cell_type": "code",
   "execution_count": 9,
   "metadata": {},
   "outputs": [
    {
     "name": "stdout",
     "output_type": "stream",
     "text": [
      "Initial estimated path cost f = 12\n",
      "Goal node found!\n",
      "Solution found for 226 iterations of A* search. Heuristic function is Manhattan Distance.\n"
     ]
    }
   ],
   "source": [
    "iters_manhattan, search_cost_manhattan, result_manhattan = astar_search(start_puzzle, goal_puzzle, \"manhattan\")\n",
    "print(f\"Solution found for {iters_manhattan} iterations of A* search. Heuristic function is Manhattan Distance.\")"
   ]
  },
  {
   "cell_type": "code",
   "execution_count": 10,
   "metadata": {},
   "outputs": [
    {
     "name": "stdout",
     "output_type": "stream",
     "text": [
      "Initial estimated path cost f = 54\n",
      "Goal node found!\n",
      "Solution found for 30 iterations of A* search. Heuristic function is Nilsson Sequence Score.\n"
     ]
    }
   ],
   "source": [
    "iters_nilsson, search_cost_nilsson, result_nilsson = astar_search(start_puzzle, goal_puzzle, \"nilsson\")\n",
    "print(f\"Solution found for {iters_nilsson} iterations of A* search. Heuristic function is Nilsson Sequence Score.\")"
   ]
  },
  {
   "cell_type": "markdown",
   "metadata": {},
   "source": [
    "## Sanity Checking\n",
    "Ensure that the solution by A* for each heuristic function is EXACTLY the same."
   ]
  },
  {
   "cell_type": "code",
   "execution_count": 11,
   "metadata": {},
   "outputs": [],
   "source": [
    "solution_astar_misplaced = get_solution(result_misplaced)\n",
    "solution_astar_manhattan = get_solution(result_manhattan)\n",
    "solution_astar_nilsson = get_solution(result_nilsson)\n",
    "\n",
    "for i in range(len(solution_astar_misplaced)):\n",
    "    is_equal = solution_astar_misplaced[i] == solution_astar_manhattan[i] == solution_astar_nilsson[i]\n",
    "    if not is_equal:\n",
    "        print(f\"There is an inconsistent solution among the three runs of A*\")\n",
    "        break"
   ]
  }
 ],
 "metadata": {
  "kernelspec": {
   "display_name": "Python 3",
   "language": "python",
   "name": "python3"
  },
  "language_info": {
   "codemirror_mode": {
    "name": "ipython",
    "version": 3
   },
   "file_extension": ".py",
   "mimetype": "text/x-python",
   "name": "python",
   "nbconvert_exporter": "python",
   "pygments_lexer": "ipython3",
   "version": "3.11.9"
  }
 },
 "nbformat": 4,
 "nbformat_minor": 2
}
