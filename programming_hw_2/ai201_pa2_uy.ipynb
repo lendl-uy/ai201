{
 "cells": [
  {
   "cell_type": "markdown",
   "metadata": {},
   "source": [
    "# AI 201 Programming Assignment 2\n",
    "## Naive Bayes Spam Filter\n",
    "\n",
    "Submitted by: \n",
    "Jan Lendl R. Uy, 2019-00312"
   ]
  },
  {
   "cell_type": "code",
   "execution_count": 1,
   "metadata": {},
   "outputs": [],
   "source": [
    "import matplotlib.pyplot as plt\n",
    "import pandas as pd\n",
    "import re\n",
    "import random\n",
    "import numpy as np"
   ]
  },
  {
   "cell_type": "code",
   "execution_count": 2,
   "metadata": {},
   "outputs": [],
   "source": [
    "# File constants\n",
    "DATASET_PATH_STRING = \"trec06p-ai201/data\"\n",
    "FOLDER_COUNT = 127\n",
    "FILE_COUNT = 300"
   ]
  },
  {
   "cell_type": "markdown",
   "metadata": {},
   "source": [
    "## Classifier Construction and Evaluation"
   ]
  },
  {
   "cell_type": "markdown",
   "metadata": {},
   "source": [
    "### Parse the documents from the dataset\n",
    "\n",
    "Reads the contents of the TREC06 Dataset"
   ]
  },
  {
   "cell_type": "code",
   "execution_count": 3,
   "metadata": {},
   "outputs": [
    {
     "name": "stdout",
     "output_type": "stream",
     "text": [
      "No more files left to read!\n"
     ]
    }
   ],
   "source": [
    "# Extract the features from TREC06 Dataset\n",
    "documents = []\n",
    "\n",
    "for i in range(FOLDER_COUNT):\n",
    "    folder_count = str(i)\n",
    "    # Convert folder digit directory to a 3-character string\n",
    "    if len(folder_count) < 3:\n",
    "        folder_count = \"0\" * (3-len(folder_count)) + folder_count\n",
    "    for j in range(FILE_COUNT):\n",
    "        file_count = str(j)\n",
    "        # Convert digit filename to a 3-character string\n",
    "        if len(file_count) < 3:\n",
    "            file_count = \"0\" * (3-len(file_count)) + file_count\n",
    "        directory_path = f\"{DATASET_PATH_STRING}/{folder_count}/{file_count}\"\n",
    "        try:\n",
    "            with open(file=directory_path, \n",
    "                    mode=\"r\", \n",
    "                    encoding=\"utf-8\", \n",
    "                    errors=\"replace\") as file:\n",
    "                content = file.read().replace(\"�\", \"\")\n",
    "                documents.append(content)\n",
    "        except:\n",
    "            print(f\"No more files left to read!\")\n",
    "            break\n",
    "        # print(f\"{directory_path}\")"
   ]
  },
  {
   "cell_type": "code",
   "execution_count": 4,
   "metadata": {},
   "outputs": [],
   "source": [
    "# Extract the labels from TREC06 Dataset\n",
    "labels = []\n",
    "\n",
    "df_labels = pd.read_csv(\"trec06p-ai201/labels\", header=None)\n",
    "labels_in_list = df_labels.values.tolist()\n",
    "\n",
    "for label in labels_in_list:\n",
    "    label_in_str = str(label).rsplit(\" \")\n",
    "    labels.append(label_in_str[0][2:])"
   ]
  },
  {
   "cell_type": "markdown",
   "metadata": {},
   "source": [
    "### Disjoint training and test sets containing ham and spam \n",
    "\n",
    "Split is as follows: 70\\% training and 30\\% test"
   ]
  },
  {
   "cell_type": "code",
   "execution_count": 5,
   "metadata": {},
   "outputs": [],
   "source": [
    "def custom_train_test_split(X, Y, test_size=0.3, random_state=None):    \n",
    "    # Pair each document with its label\n",
    "    paired = list(zip(X, Y))\n",
    "    \n",
    "    # Shuffle the paired documents and labels\n",
    "    if random_state is not None:\n",
    "        # Set the randomization seed if provided\n",
    "        # To allow reproducibility of the randomization\n",
    "        rng = random.Random(random_state)\n",
    "        rng.shuffle(paired)\n",
    "    else:\n",
    "        random.shuffle(paired)\n",
    "    \n",
    "    # Calculate the number of samples in the test set\n",
    "    if isinstance(test_size, float):\n",
    "        test_size = int(test_size * len(X))\n",
    "    \n",
    "    # Split the paired list into training and testing sets\n",
    "    train_pairs = paired[:-test_size]\n",
    "    test_pairs = paired[-test_size:]\n",
    "    \n",
    "    # Unzip the pairs back into separate lists\n",
    "    train_docs, train_labels = zip(*train_pairs)\n",
    "    test_docs, test_labels = zip(*test_pairs)\n",
    "    \n",
    "    return list(train_docs), list(test_docs), list(train_labels), list(test_labels)"
   ]
  },
  {
   "cell_type": "code",
   "execution_count": 6,
   "metadata": {},
   "outputs": [],
   "source": [
    "X_train, X_test, Y_train, Y_test = custom_train_test_split(documents, labels, 0.3, random_state=62)"
   ]
  },
  {
   "cell_type": "code",
   "execution_count": 7,
   "metadata": {},
   "outputs": [],
   "source": [
    "class Vocabulary:\n",
    "    \n",
    "    def __init__(self, documents, labels):\n",
    "        # Assuming 'documents' is a list of strings (each string is a document),\n",
    "        # and 'labels' is a list of labels ('spam' or 'ham') corresponding to each document.\n",
    "        \n",
    "        self.contents = set()\n",
    "        \n",
    "        self.word_counts = {\"spam\": {}, \"ham\": {}}\n",
    "        self.spam_count = 0\n",
    "        self.ham_count = 0\n",
    "\n",
    "        # Preprocess documents and build vocabulary\n",
    "        for document, label in zip(documents, labels):\n",
    "            # Tokenize the document\n",
    "            words = re.findall(\"[a-zA-Z]+\", document)\n",
    "            # Convert all words to lowercase to avoid classifying\n",
    "            # same words but different cases as different\n",
    "            # lowercase_words = [word.lower() for word in words]\n",
    "            unique_words = set(words)\n",
    "            \n",
    "            # Update vocabulary\n",
    "            self.contents.update(unique_words)\n",
    "            \n",
    "            # Count word statistics\n",
    "            for word in unique_words:\n",
    "                if word not in self.word_counts[label]:\n",
    "                    self.word_counts[label][word] = 0\n",
    "                self.word_counts[label][word] += 1\n",
    "            \n",
    "            # Count documents in each class\n",
    "            if label == \"spam\":\n",
    "                self.spam_count += 1\n",
    "            else:\n",
    "                self.ham_count += 1\n",
    "\n",
    "        # Calculate prior probabilities\n",
    "        total_documents = self.spam_count + self.ham_count\n",
    "        self.prior_spam = self.spam_count / total_documents\n",
    "        self.prior_ham = self.ham_count / total_documents\n",
    "        \n",
    "        self.size = len(self.contents)\n",
    "                \n",
    "        # Initialize log likelihoods\n",
    "        self.log_likelihoods = {\n",
    "            \"spam\": {word: 0 for word in self.contents},\n",
    "            \"ham\": {word: 0 for word in self.contents},\n",
    "        }\n",
    "        \n",
    "    def show_vocabulary_statistics(self):\n",
    "        \n",
    "        print(f\"Vocabulary size: {self.size}\")\n",
    "        print(f\"Prior probability of spam: {self.prior_spam}\")\n",
    "        print(f\"Prior probability of ham: {self.prior_ham}\")\n",
    "    \n",
    "    def get_prior_probabilities(self):\n",
    "        \n",
    "        return np.log(self.prior_spam), np.log(self.prior_ham)\n",
    "    \n",
    "    def calculate_word_probabilities(self):\n",
    "        # Calculate P(word) and P(word|class)\n",
    "        self.word_probabilities = {}  # P(word)\n",
    "        self.conditional_probabilities = {\"spam\": {}, \"ham\": {}}  # P(word|class)\n",
    "\n",
    "        total_spam_words = sum(self.word_counts['spam'].values())\n",
    "        total_ham_words = sum(self.word_counts['ham'].values())\n",
    "        total_words = total_spam_words + total_ham_words\n",
    "\n",
    "        for word in self.contents:\n",
    "            spam_word_count = self.word_counts['spam'].get(word, 0)\n",
    "            ham_word_count = self.word_counts['ham'].get(word, 0)\n",
    "            \n",
    "            # P(word)\n",
    "            self.word_probabilities[word] = (spam_word_count + ham_word_count) / total_words\n",
    "            \n",
    "            # P(word|spam) and P(word|ham)\n",
    "            self.conditional_probabilities['spam'][word] = spam_word_count / self.spam_count if self.spam_count else 0\n",
    "            self.conditional_probabilities['ham'][word] = ham_word_count / self.ham_count if self.ham_count else 0\n",
    "\n",
    "    def calculate_mutual_information(self):\n",
    "        self.mi_scores = {}\n",
    "        for word in self.contents:\n",
    "            mi_score = 0\n",
    "            for label in ['spam', 'ham']:\n",
    "                for word_presence in [True, False]:\n",
    "                    if word_presence:\n",
    "                        p_w_c = self.conditional_probabilities[label].get(word, 0)\n",
    "                        p_w = self.word_probabilities.get(word, 0)\n",
    "                    else:\n",
    "                        p_w_c = 1 - self.conditional_probabilities[label].get(word, 0)\n",
    "                        p_w = 1 - self.word_probabilities.get(word, 0)\n",
    "                    \n",
    "                    p_c = self.prior_spam if label == 'spam' else self.prior_ham\n",
    "                    p_w_and_c = p_w_c * p_c\n",
    "                    \n",
    "                    if p_w_and_c > 0 and p_w > 0 and p_c > 0:\n",
    "                        mi_score += p_w_and_c * np.log(p_w_and_c / (p_w * p_c))\n",
    "            \n",
    "            self.mi_scores[word] = mi_score\n",
    "            \n",
    "    def rebuild_vocabulary_with_top_words(self, top_words):\n",
    "        # Filter the contents to include only the top words\n",
    "        self.contents = set(top_words)\n",
    "        \n",
    "        # Filter the word counts for both 'spam' and 'ham' to include only the top words\n",
    "        for label in ['spam', 'ham']:\n",
    "            self.word_counts[label] = {word: count for word, count in self.word_counts[label].items() if word in top_words}\n",
    "        \n",
    "        # Since the vocabulary has changed, you might need to update any other computed statistics\n",
    "        # For example, you may choose to recalculate the prior probabilities, log likelihoods, etc.\n",
    "        # depending on whether those calculations are dependent on the full vocabulary or not.\n",
    "        self.size = len(self.contents)  # Update the size of the vocabulary\n",
    "        \n",
    "        # Optionally recalculate probabilities if your implementation requires it\n",
    "        # This might be necessary if your class methods depend on the updated vocabulary\n",
    "        self.calculate_word_probabilities()\n",
    "        self.calculate_mutual_information()\n"
   ]
  },
  {
   "cell_type": "code",
   "execution_count": 8,
   "metadata": {},
   "outputs": [
    {
     "name": "stdout",
     "output_type": "stream",
     "text": [
      "Vocabulary size: 2181436\n",
      "Prior probability of spam: 0.6562924913128871\n",
      "Prior probability of ham: 0.34370750868711286\n"
     ]
    }
   ],
   "source": [
    "vocabulary = Vocabulary(X_train, Y_train)\n",
    "vocabulary.show_vocabulary_statistics()"
   ]
  },
  {
   "cell_type": "markdown",
   "metadata": {},
   "source": [
    "### Construct and train a Naive Bayesian Classifier from the count statistics\n",
    "\n",
    "The Naive Bayes Classifier is implemented as a class with two methods, `train()` and `predict()`. `train()` is reminiscent of the `fit()` method in sklearn which trains the model for a given training set. On the other hand, `predict()` is similar to that of sklearn `predict()` which returns the inferences of the model for a given test set."
   ]
  },
  {
   "cell_type": "code",
   "execution_count": 9,
   "metadata": {},
   "outputs": [],
   "source": [
    "class NaiveBayesClassifier:\n",
    "    \n",
    "    def __init__(self, lambda_value=0):\n",
    "        # Laplace smoothing factor\n",
    "        # By default, there is no Laplace smoothing\n",
    "        self.lambda_value = lambda_value\n",
    "    \n",
    "    def train(self, vocabulary):        \n",
    "        # Calculate log likelihoods for each word\n",
    "        spam_count = vocabulary.spam_count\n",
    "        ham_count = vocabulary.ham_count\n",
    "        vocabulary_size = vocabulary.size\n",
    "        word_counts = vocabulary.word_counts\n",
    "        \n",
    "        for word in vocabulary.contents:\n",
    "            # Calculate the likelihood of word given spam\n",
    "            spam_word_count = word_counts[\"spam\"].get(word, 0)\n",
    "            spam_likelihood = (spam_word_count + self.lambda_value) / (spam_count + self.lambda_value * vocabulary_size)\n",
    "            vocabulary.log_likelihoods[\"spam\"][word] = np.log(spam_likelihood)\n",
    "            \n",
    "            # Calculate the likelihood of word given ham\n",
    "            ham_word_count = word_counts[\"ham\"].get(word, 0)\n",
    "            ham_likelihood = (ham_word_count + self.lambda_value) / (ham_count + self.lambda_value * vocabulary_size)\n",
    "            vocabulary.log_likelihoods[\"ham\"][word] = np.log(ham_likelihood)\n",
    "\n",
    "    def predict(self, vocabulary, X_test):        \n",
    "        predictions = []\n",
    "        \n",
    "        for document in X_test:\n",
    "            words = re.findall(\"[a-zA-Z]+\", document)\n",
    "            # Convert all words to lowercase to avoid classifying\n",
    "            # same words but different cases as different\n",
    "            # lowercase_words = [word.lower() for word in words]\n",
    "            spam_score, ham_score = vocabulary.get_prior_probabilities()\n",
    "            for word in words:\n",
    "                if word in vocabulary.log_likelihoods[\"spam\"]:\n",
    "                    spam_score += vocabulary.log_likelihoods[\"spam\"][word]\n",
    "                if word in vocabulary.log_likelihoods[\"ham\"]:\n",
    "                    ham_score += vocabulary.log_likelihoods[\"ham\"][word]\n",
    "        \n",
    "            predictions.append(\"spam\" if spam_score > ham_score else \"ham\")\n",
    "            \n",
    "        return predictions\n"
   ]
  },
  {
   "cell_type": "code",
   "execution_count": 10,
   "metadata": {},
   "outputs": [
    {
     "name": "stderr",
     "output_type": "stream",
     "text": [
      "/var/folders/cq/5p30h6x5741g3nvfdq8t32g40000gn/T/ipykernel_1421/4269419531.py:19: RuntimeWarning: divide by zero encountered in log\n",
      "  vocabulary.log_likelihoods[\"spam\"][word] = np.log(spam_likelihood)\n",
      "/var/folders/cq/5p30h6x5741g3nvfdq8t32g40000gn/T/ipykernel_1421/4269419531.py:24: RuntimeWarning: divide by zero encountered in log\n",
      "  vocabulary.log_likelihoods[\"ham\"][word] = np.log(ham_likelihood)\n"
     ]
    }
   ],
   "source": [
    "classifier = NaiveBayesClassifier(lambda_value=0)\n",
    "classifier.train(vocabulary)"
   ]
  },
  {
   "cell_type": "markdown",
   "metadata": {},
   "source": [
    "### Compute the precision and recall of the initial model"
   ]
  },
  {
   "cell_type": "code",
   "execution_count": 11,
   "metadata": {},
   "outputs": [],
   "source": [
    "def get_precision(predicted_labels, actual_labels):\n",
    "    true_positive = sum(1 for predicted, actual in zip(predicted_labels, actual_labels) if predicted == actual and actual == \"spam\")\n",
    "    false_positive = sum(1 for predicted, actual in zip(predicted_labels, actual_labels) if predicted == \"spam\" and actual == \"ham\")\n",
    "    \n",
    "    precision = true_positive / (true_positive + false_positive) if (true_positive + false_positive) > 0 else 0\n",
    "        \n",
    "    return precision\n",
    "\n",
    "def get_recall(predicted_labels, actual_labels):\n",
    "    true_positive = sum(1 for predicted, actual in zip(predicted_labels, actual_labels) if predicted == actual and actual == \"spam\")\n",
    "    false_negative = sum(1 for predicted, actual in zip(predicted_labels, actual_labels) if predicted == \"ham\" and actual == \"spam\")\n",
    "        \n",
    "    recall = true_positive / (true_positive + false_negative) if (true_positive + false_negative) > 0 else 0\n",
    "    \n",
    "    return recall"
   ]
  },
  {
   "cell_type": "code",
   "execution_count": 12,
   "metadata": {},
   "outputs": [
    {
     "name": "stdout",
     "output_type": "stream",
     "text": [
      "Precision of the Initial Naive Bayes Classifier: 0.9992487980769231\n",
      "Recall of the Initial Naive Bayes Classifier: 0.8825636942675159\n"
     ]
    }
   ],
   "source": [
    "Y_pred = classifier.predict(vocabulary, X_test)\n",
    "print(f\"Precision of the Initial Naive Bayes Classifier: {get_precision(Y_pred, Y_test)}\")\n",
    "print(f\"Recall of the Initial Naive Bayes Classifier: {get_recall(Y_pred, Y_test)}\")"
   ]
  },
  {
   "cell_type": "markdown",
   "metadata": {},
   "source": [
    "## Lambda Smoothing\n",
    "\n",
    "Uses λ smoothing for 5 different values of λ. Resulting precision and recall are displayed for these lambda values."
   ]
  },
  {
   "cell_type": "code",
   "execution_count": 13,
   "metadata": {},
   "outputs": [
    {
     "name": "stdout",
     "output_type": "stream",
     "text": [
      "Precision of the Naive Bayes Classifier for (λ = 0.005): 0.9916456703354992\n",
      "Recall of the Naive Bayes Classifier for (λ = 0.005): 0.9923036093418259\n",
      "\n",
      "Precision of the Naive Bayes Classifier for (λ = 0.1): 0.9675967596759676\n",
      "Recall of the Naive Bayes Classifier for (λ = 0.1): 0.9985403397027601\n",
      "\n",
      "Precision of the Naive Bayes Classifier for (λ = 0.5): 0.953170484748766\n",
      "Recall of the Naive Bayes Classifier for (λ = 0.5): 0.9993365180467091\n",
      "\n",
      "Precision of the Naive Bayes Classifier for (λ = 1): 0.9423245339672213\n",
      "Recall of the Naive Bayes Classifier for (λ = 1): 0.9994692144373672\n",
      "\n",
      "Precision of the Naive Bayes Classifier for (λ = 2): 0.9302296863423067\n",
      "Recall of the Naive Bayes Classifier for (λ = 2): 0.9996019108280255\n",
      "\n"
     ]
    },
    {
     "data": {
      "image/png": "[encoded data removed]",
      "text/plain": [
       "<Figure size 640x480 with 1 Axes>"
      ]
     },
     "metadata": {},
     "output_type": "display_data"
    }
   ],
   "source": [
    "lambda_values = [0.005, 0.1, 0.5, 1, 2]\n",
    "precision_values = []\n",
    "recall_values = []\n",
    "\n",
    "for lambda_value in lambda_values:\n",
    "    # Initialize and train the classifier\n",
    "    classifier = NaiveBayesClassifier(lambda_value=lambda_value)\n",
    "    classifier.train(vocabulary)\n",
    "    # Evaluate the resulting performance as a result of tuning lambda\n",
    "    Y_pred = classifier.predict(vocabulary, X_test)\n",
    "    precision = get_precision(Y_pred, Y_test)\n",
    "    recall = get_recall(Y_pred, Y_test)\n",
    "    precision_values.append(precision)\n",
    "    recall_values.append(recall)\n",
    "    print(f\"Precision of the Naive Bayes Classifier for (λ = {lambda_value}): {precision}\")\n",
    "    print(f\"Recall of the Naive Bayes Classifier for (λ = {lambda_value}): {recall}\\n\")\n",
    "    \n",
    "plt.plot(lambda_values, precision_values, label=\"Precision\")\n",
    "plt.plot(lambda_values, recall_values, label=\"Recall\")\n",
    "plt.title(\"Performance of the Naive Bayes - Spam Filter for Varying Laplace Factor\")\n",
    "plt.xlabel(\"Laplace Smoothing\")\n",
    "plt.ylabel(\"Performance\")\n",
    "plt.xlim((0, 2))\n",
    "plt.legend()\n",
    "plt.show()"
   ]
  },
  {
   "cell_type": "markdown",
   "metadata": {},
   "source": [
    "**Answer**: Based on the plot above, a Laplace factor of 0.005 achieves the best balance between a high precision and a high recall. Since the precision trends exponentially downward at a faster rate than than the rate of increase in recall, the Laplace factor is ideally set as low as possible but not equal to zero as this tends to result in zero division, causing instability to the model. For the lambda values tested, 0.005 is the best smoothing factor that maximizes both the precision and recall of the Naive Bayes spam classifier."
   ]
  },
  {
   "cell_type": "markdown",
   "metadata": {},
   "source": [
    "## Improving the Classifier"
   ]
  },
  {
   "cell_type": "code",
   "execution_count": 14,
   "metadata": {},
   "outputs": [
    {
     "name": "stdout",
     "output_type": "stream",
     "text": [
      "['by', 'Received', 'from', 'with', 'id', 'From', 'To', 'Subject', 'for', 'edu', 'Date', 'Content', 'Type', 'Version', 'Message', 'text', 'a', 'ESMTP', 'charset', 'X', 'plain', 'com', 'Encoding', 'Transfer', 'to', 'MIME', 'http', 'in', 'is', 'the', 'and', 'of', 'ID', 'bit', 'Mailer', 'c', 's', 'A', 'I', 'us', 'b', 'C', 'html', 'Reply', 'you', 'B', 'This', 'mit', 'net', 'SMTP', 'it', 'media', 'aleve', 'on', 'this', 'Id', 'that', 'D', 't', 'handyboard', 'be', 'd', 'format', 'message', 'boundary', 'multipart', 'have', 'at', 'f', 'alternative', 'Mime', 'E', 'href', 'i', 'your', 'The', 'unknown', 'e', 'F', 'p', 'or', 'V', 'are', 'content', 'part', 'Microsoft', 'not', 'www', 'ascii', 'equiv', 'Priority', 'EDT', 'size', 'EST', 'multi', 'By', 'ALEVE', 'can', 'br', 'v', 'u', 'out', 'as', 'localhost', 'mail', 'will', 'our', 'Normal', 'all', 'k', 'm', 'M', 'Re', 'W', 'color', 'border', 'but', 'font', 'body', 'Sender', 'j', 'n', 'P', 'Outlook', 'width', 'S', 'an', 'G', 'L', 'align', 'has', 'center', 'o', 'iso', 'tr', 'R', 'table', 'flowed', 'td', 'In', 'x', 'You', 'q', 'U', 'g', 'Produced', 'quoted', 'MimeOLE', 'printable', 'ISO', 'head', 'title', 'Thu', 'Tue', 'HTML', 'meta', 'face', 'so', 'Wed', 'using', 'one', 'Mon', 'any', 'arizona', 'Express', 'en', 'Precedence', 'if', 'psych', 'psy', 'list', 'r', 'MSMail', 'new', 'Fri', 'h', 'DMDX', 'Sun', 'we', 'up', 'l', 'my', 'w', 'do', 'We', 'N', 'target', 'like', 'me', 'blank', 'no', 'K', 'nbsp', 'more', 'Language', 'bgcolor', 'windows', 'was', 'info', 'name']\n"
     ]
    }
   ],
   "source": [
    "# Obtain the top 200 most informative words based on the mutual information of each word\n",
    "# in relation to its label\n",
    "vocabulary.calculate_word_probabilities()\n",
    "vocabulary.calculate_mutual_information()\n",
    "\n",
    "# Sort words by their MI score and select the top 200\n",
    "vocabulary_top_200 = sorted(vocabulary.mi_scores, key=vocabulary.mi_scores.get, reverse=True)[:200]\n",
    "print(vocabulary_top_200)"
   ]
  },
  {
   "cell_type": "code",
   "execution_count": 19,
   "metadata": {},
   "outputs": [
    {
     "name": "stdout",
     "output_type": "stream",
     "text": [
      "['spam', 'spam', 'spam', 'spam', 'spam', 'spam', 'spam', 'spam', 'spam', 'spam', 'spam', 'spam', 'spam', 'spam', 'spam', 'spam', 'spam', 'spam', 'spam', 'spam', 'spam', 'spam', 'spam', 'spam', 'spam', 'spam', 'spam', 'spam', 'spam', 'spam', 'spam', 'spam', 'spam', 'spam', 'spam', 'spam', 'spam', 'spam', 'spam', 'spam', 'spam', 'spam', 'spam', 'spam', 'spam', 'spam', 'spam', 'spam', 'spam', 'spam', 'spam', 'spam', 'spam', 'spam', 'spam', 'spam', 'spam', 'spam', 'spam', 'spam', 'spam', 'spam', 'spam', 'spam', 'spam', 'spam', 'spam', 'spam', 'spam', 'spam', 'spam', 'spam', 'spam', 'spam', 'spam', 'spam', 'spam', 'spam', 'spam', 'spam', 'spam', 'spam', 'spam', 'spam', 'spam', 'spam', 'spam', 'spam', 'spam', 'spam', 'spam', 'spam', 'spam', 'spam', 'spam', 'spam', 'spam', 'spam', 'spam', 'spam', 'spam', 'spam', 'spam', 'spam', 'spam', 'spam', 'spam', 'spam', 'spam', 'spam', 'spam', 'spam', 'spam', 'spam', 'spam', 'spam', 'spam', 'spam', 'spam', 'spam', 'spam', 'spam', 'spam', 'spam', 'spam', 'spam', 'spam', 'spam', 'spam', 'spam', 'spam', 'spam', 'spam', 'spam', 'spam', 'spam', 'spam', 'spam', 'spam', 'spam', 'spam', 'spam', 'spam', 'spam', 'spam', 'spam', 'spam', 'spam', 'spam', 'spam', 'spam', 'spam', 'spam', 'spam', 'spam', 'spam', 'spam', 'spam', 'spam', 'spam', 'spam', 'spam', 'spam', 'spam', 'spam', 'spam', 'spam', 'spam', 'spam', 'spam', 'spam', 'spam', 'spam', 'spam', 'spam', 'spam', 'spam', 'spam', 'spam', 'spam', 'spam', 'spam', 'spam', 'spam', 'spam', 'spam', 'spam', 'spam', 'spam', 'spam', 'spam', 'spam', 'spam', 'spam', 'spam', 'spam', 'spam', 'spam', 'spam', 'spam']\n"
     ]
    }
   ],
   "source": [
    "labels = []\n",
    "for word in vocabulary_top_200:\n",
    "    if word in vocabulary.log_likelihoods[\"spam\"]:\n",
    "        labels.append(\"spam\")\n",
    "    else:\n",
    "        labels.append(\"ham\")\n",
    "print(labels)"
   ]
  },
  {
   "cell_type": "code",
   "execution_count": 20,
   "metadata": {},
   "outputs": [
    {
     "name": "stderr",
     "output_type": "stream",
     "text": [
      "/var/folders/cq/5p30h6x5741g3nvfdq8t32g40000gn/T/ipykernel_1421/2310973827.py:58: RuntimeWarning: divide by zero encountered in log\n",
      "  return np.log(self.prior_spam), np.log(self.prior_ham)\n"
     ]
    },
    {
     "name": "stdout",
     "output_type": "stream",
     "text": [
      "Precision of the Naive Bayes Classifier with Top 200 Vocabulary for (λ = 2): 0.6641988365943945\n",
      "Recall of the Naive Bayes Classifier with Top 200 Vocabulary for (λ = 2): 1.0\n",
      "\n"
     ]
    }
   ],
   "source": [
    "# Rebuild the vocabulary with the top 200 most informative words\n",
    "vocabulary_reduced = Vocabulary(vocabulary_top_200, labels)\n",
    "\n",
    "# Initialize and train the classifier\n",
    "best_lambda = 0.005\n",
    "classifier = NaiveBayesClassifier(lambda_value=best_lambda)\n",
    "classifier.train(vocabulary_reduced)\n",
    "\n",
    "# Evaluate the resulting performance of classifier with the reduced vocabulary\n",
    "Y_pred = classifier.predict(vocabulary_reduced, X_test)\n",
    "precision = get_precision(Y_pred, Y_test)\n",
    "recall = get_recall(Y_pred, Y_test)\n",
    "print(f\"Precision of the Naive Bayes Classifier with Top 200 Vocabulary for (λ = {best_lambda}): {precision}\")\n",
    "print(f\"Recall of the Naive Bayes Classifier with Top 200 Vocabulary for (λ = {best_lambda}): {recall}\\n\")"
   ]
  }
 ],
 "metadata": {
  "kernelspec": {
   "display_name": "Python 3 (ipykernel)",
   "language": "python",
   "name": "python3"
  },
  "language_info": {
   "codemirror_mode": {
    "name": "ipython",
    "version": 3
   },
   "file_extension": ".py",
   "mimetype": "text/x-python",
   "name": "python",
   "nbconvert_exporter": "python",
   "pygments_lexer": "ipython3",
   "version": "3.11.3"
  }
 },
 "nbformat": 4,
 "nbformat_minor": 4
}
