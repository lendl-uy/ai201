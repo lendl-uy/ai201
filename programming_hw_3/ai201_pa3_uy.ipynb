{
 "cells": [
  {
   "cell_type": "markdown",
   "metadata": {},
   "source": [
    "# AI 201 Programming Assignment 3\n",
    "## Multi-Layer Perceptron with Backpropagation\n",
    "\n",
    "Submitted by: \n",
    "Jan Lendl R. Uy, 2019-00312"
   ]
  },
  {
   "cell_type": "code",
   "execution_count": 64,
   "metadata": {},
   "outputs": [],
   "source": [
    "import numpy as np\n",
    "import csv"
   ]
  },
  {
   "cell_type": "code",
   "execution_count": 65,
   "metadata": {},
   "outputs": [],
   "source": [
    "# Dataset Paths\n",
    "path_to_train_set_features = \"dataset/data.csv\"\n",
    "path_to_train_set_labels = \"dataset/data_labels.csv\"\n",
    "path_to_test_set_features = \"dataset/test_set.csv\""
   ]
  },
  {
   "cell_type": "code",
   "execution_count": 66,
   "metadata": {},
   "outputs": [],
   "source": [
    "def read_csv(path):\n",
    "\n",
    "    data = []\n",
    "\n",
    "    with open(path, mode=\"r\") as file:\n",
    "        csv_reader = csv.reader(file)  \n",
    "        for row in csv_reader:\n",
    "            data.append(row)\n",
    "    return np.array(data, dtype=float)\n",
    "\n",
    "X_train = read_csv(path_to_train_set_features)\n",
    "Y_train = read_csv(path_to_train_set_labels)\n",
    "X_test = read_csv(path_to_test_set_features)"
   ]
  },
  {
   "cell_type": "code",
   "execution_count": 67,
   "metadata": {},
   "outputs": [
    {
     "name": "stdout",
     "output_type": "stream",
     "text": [
      "(3486, 354)\n",
      "(3486, 1)\n",
      "(701, 354)\n",
      "0.0019951\n",
      "8.0\n",
      "0.022071\n"
     ]
    }
   ],
   "source": [
    "print(X_train.shape)\n",
    "print(Y_train.shape)\n",
    "print(X_test.shape)\n",
    "\n",
    "print(X_train[0, 0])\n",
    "print(Y_train[0, 0])\n",
    "print(X_test[0, 0])"
   ]
  },
  {
   "cell_type": "code",
   "execution_count": 68,
   "metadata": {},
   "outputs": [],
   "source": [
    "class MultiLayerPerceptron:\n",
    "    \n",
    "    def __init__(self, input_size, hidden_sizes, output_size, activation_functions, batch_size=8, alpha=0.9, learning_rate=0.01, momentum=0.9, seed=0):\n",
    "        # Network architecture parameters\n",
    "        self.input_size = input_size\n",
    "        self.hidden_sizes = hidden_sizes\n",
    "        self.output_size = output_size\n",
    "        self.activation_functions = activation_functions\n",
    "\n",
    "        self.layer_sizes = [input_size] + hidden_sizes + [output_size]\n",
    "\n",
    "        # Backpropagation parameters\n",
    "        self.alpha = alpha\n",
    "        self.learning_rate = learning_rate\n",
    "        self.momentum = momentum\n",
    "\n",
    "        # Learnable parameters\n",
    "        self.weights = self.__initialize_weights()\n",
    "        self.biases = self.__initialize_biases()\n",
    "        self.velocity = self.__initialize_velocity()\n",
    "\n",
    "        np.random.seed(seed)\n",
    "\n",
    "        print(self.weights.shape)\n",
    "        print(self.biases.shape)\n",
    "        print(self.velocity.shape)\n",
    "        \n",
    "    def sigmoid(self, x, a=2.0):\n",
    "        return 1 / (1 + np.exp(-x * a))\n",
    "\n",
    "    def sigmoid_derivative(self, x, a=2.0):\n",
    "        sigma = self.sigmoid(x)\n",
    "        return sigma * (1 - sigma)\n",
    "    \n",
    "    def tanh(self, x, a=1.716, b=2/3):\n",
    "        return a * np.tanh(x * b)\n",
    "\n",
    "    def tanh_derivative(self, x, a=1.716, b=2/3):\n",
    "        return a*b * (1/np.cosh(b*x))**2\n",
    "    \n",
    "    def leaky_relu(x, alpha=0.01):\n",
    "        return np.where(x > 0, x, alpha * x)\n",
    "\n",
    "    def leaky_relu_derivative(x, alpha=0.01):\n",
    "        return np.where(x > 0, 1, alpha)\n",
    "\n",
    "    def forward(self, X):\n",
    "\n",
    "        self.layers = []\n",
    "        self.layers.append(X)\n",
    "\n",
    "        # Forward pass through the hidden layers\n",
    "        print(f\"{X.shape} x {self.weights[0].shape} x {self.biases[0].shape}\")\n",
    "        Z = X @ self.weights[0] + self.biases[0]\n",
    "        A = self.relu(Z)\n",
    "        self.layers.append(A)\n",
    "        X = A\n",
    "\n",
    "        # Forward pass through the output layer\n",
    "        # Resulting output layer is the prediction\n",
    "        output_layer = X @ self.weights[-1] + self.biases[-1]\n",
    "        self.layers.append(output_layer)\n",
    "        return self.layers[-1]\n",
    "\n",
    "    def backward(self, Y):\n",
    "\n",
    "        pass\n",
    "\n",
    "    def __initialize_weights(self):\n",
    "        # Initialize weights and biases for hidden layers\n",
    "        self.weights = []\n",
    "        layers = len(self.layer_sizes)\n",
    "        for i in range(layers - 1):\n",
    "            w = np.random.randn(self.layer_sizes[i], self.layer_sizes[i+1]) * np.sqrt(2.0/(self.layer_sizes[i]))\n",
    "            self.weights.append(w)\n",
    "        return np.array(self.weights)\n",
    "    \n",
    "    def __initialize_biases(self):\n",
    "        self.biases = []\n",
    "        layers = len(self.layer_sizes)\n",
    "        for i in range(layers - 1):\n",
    "            self.biases.append(np.zeros((1, self.layer_sizes[i])))\n",
    "        return np.array(self.biases)\n",
    "\n",
    "    def __initialize_velocity(self):\n",
    "        velocity = []\n",
    "        for weight in self.weights:\n",
    "            velocity.append(np.zeros_like(weight))\n",
    "        return np.array(velocity)"
   ]
  },
  {
   "cell_type": "code",
   "execution_count": 69,
   "metadata": {},
   "outputs": [
    {
     "ename": "ValueError",
     "evalue": "setting an array element with a sequence. The requested array has an inhomogeneous shape after 1 dimensions. The detected shape was (3,) + inhomogeneous part.",
     "output_type": "error",
     "traceback": [
      "\u001b[1;31m---------------------------------------------------------------------------\u001b[0m",
      "\u001b[1;31mValueError\u001b[0m                                Traceback (most recent call last)",
      "Cell \u001b[1;32mIn[69], line 4\u001b[0m\n\u001b[0;32m      2\u001b[0m hidden_layer_sizes \u001b[38;5;241m=\u001b[39m [input_size, output_size]\n\u001b[0;32m      3\u001b[0m activation_functions \u001b[38;5;241m=\u001b[39m [\u001b[38;5;124m\"\u001b[39m\u001b[38;5;124mlogistic\u001b[39m\u001b[38;5;124m\"\u001b[39m, \u001b[38;5;124m\"\u001b[39m\u001b[38;5;124mlogistic\u001b[39m\u001b[38;5;124m\"\u001b[39m, \u001b[38;5;124m\"\u001b[39m\u001b[38;5;124mlogistic\u001b[39m\u001b[38;5;124m\"\u001b[39m]\n\u001b[1;32m----> 4\u001b[0m mlp \u001b[38;5;241m=\u001b[39m \u001b[43mMultiLayerPerceptron\u001b[49m\u001b[43m(\u001b[49m\u001b[43minput_size\u001b[49m\u001b[38;5;241;43m=\u001b[39;49m\u001b[43minput_size\u001b[49m\u001b[43m,\u001b[49m\u001b[43m \u001b[49m\u001b[43mhidden_sizes\u001b[49m\u001b[38;5;241;43m=\u001b[39;49m\u001b[43mhidden_layer_sizes\u001b[49m\u001b[43m,\u001b[49m\u001b[43m \u001b[49m\u001b[43moutput_size\u001b[49m\u001b[38;5;241;43m=\u001b[39;49m\u001b[43moutput_size\u001b[49m\u001b[43m,\u001b[49m\u001b[43m \u001b[49m\u001b[43mactivation_functions\u001b[49m\u001b[38;5;241;43m=\u001b[39;49m\u001b[43mactivation_functions\u001b[49m\u001b[43m)\u001b[49m\n\u001b[0;32m      5\u001b[0m mlp\u001b[38;5;241m.\u001b[39mforward(X_train)\n",
      "Cell \u001b[1;32mIn[68], line 18\u001b[0m, in \u001b[0;36mMultiLayerPerceptron.__init__\u001b[1;34m(self, input_size, hidden_sizes, output_size, activation_functions, batch_size, alpha, learning_rate, momentum, seed)\u001b[0m\n\u001b[0;32m     15\u001b[0m \u001b[38;5;28mself\u001b[39m\u001b[38;5;241m.\u001b[39mmomentum \u001b[38;5;241m=\u001b[39m momentum\n\u001b[0;32m     17\u001b[0m \u001b[38;5;66;03m# Learnable parameters\u001b[39;00m\n\u001b[1;32m---> 18\u001b[0m \u001b[38;5;28mself\u001b[39m\u001b[38;5;241m.\u001b[39mweights \u001b[38;5;241m=\u001b[39m \u001b[38;5;28;43mself\u001b[39;49m\u001b[38;5;241;43m.\u001b[39;49m\u001b[43m__initialize_weights\u001b[49m\u001b[43m(\u001b[49m\u001b[43m)\u001b[49m\n\u001b[0;32m     19\u001b[0m \u001b[38;5;28mself\u001b[39m\u001b[38;5;241m.\u001b[39mbiases \u001b[38;5;241m=\u001b[39m \u001b[38;5;28mself\u001b[39m\u001b[38;5;241m.\u001b[39m__initialize_biases()\n\u001b[0;32m     20\u001b[0m \u001b[38;5;28mself\u001b[39m\u001b[38;5;241m.\u001b[39mvelocity \u001b[38;5;241m=\u001b[39m \u001b[38;5;28mself\u001b[39m\u001b[38;5;241m.\u001b[39m__initialize_velocity()\n",
      "Cell \u001b[1;32mIn[68], line 76\u001b[0m, in \u001b[0;36mMultiLayerPerceptron.__initialize_weights\u001b[1;34m(self)\u001b[0m\n\u001b[0;32m     74\u001b[0m     w \u001b[38;5;241m=\u001b[39m np\u001b[38;5;241m.\u001b[39mrandom\u001b[38;5;241m.\u001b[39mrandn(\u001b[38;5;28mself\u001b[39m\u001b[38;5;241m.\u001b[39mlayer_sizes[i], \u001b[38;5;28mself\u001b[39m\u001b[38;5;241m.\u001b[39mlayer_sizes[i\u001b[38;5;241m+\u001b[39m\u001b[38;5;241m1\u001b[39m]) \u001b[38;5;241m*\u001b[39m np\u001b[38;5;241m.\u001b[39msqrt(\u001b[38;5;241m2.0\u001b[39m\u001b[38;5;241m/\u001b[39m(\u001b[38;5;28mself\u001b[39m\u001b[38;5;241m.\u001b[39mlayer_sizes[i]))\n\u001b[0;32m     75\u001b[0m     \u001b[38;5;28mself\u001b[39m\u001b[38;5;241m.\u001b[39mweights\u001b[38;5;241m.\u001b[39mappend(w)\n\u001b[1;32m---> 76\u001b[0m \u001b[38;5;28;01mreturn\u001b[39;00m \u001b[43mnp\u001b[49m\u001b[38;5;241;43m.\u001b[39;49m\u001b[43marray\u001b[49m\u001b[43m(\u001b[49m\u001b[38;5;28;43mself\u001b[39;49m\u001b[38;5;241;43m.\u001b[39;49m\u001b[43mweights\u001b[49m\u001b[43m)\u001b[49m\n",
      "\u001b[1;31mValueError\u001b[0m: setting an array element with a sequence. The requested array has an inhomogeneous shape after 1 dimensions. The detected shape was (3,) + inhomogeneous part."
     ]
    }
   ],
   "source": [
    "input_size, output_size = X_train.shape[1], Y_train.shape[1]\n",
    "hidden_layer_sizes = [input_size, output_size]\n",
    "activation_functions = [\"logistic\", \"logistic\", \"logistic\"]\n",
    "mlp = MultiLayerPerceptron(input_size=input_size, hidden_sizes=hidden_layer_sizes, output_size=output_size, activation_functions=activation_functions)\n",
    "mlp.forward(X_train)"
   ]
  }
 ],
 "metadata": {
  "kernelspec": {
   "display_name": "Python 3",
   "language": "python",
   "name": "python3"
  },
  "language_info": {
   "codemirror_mode": {
    "name": "ipython",
    "version": 3
   },
   "file_extension": ".py",
   "mimetype": "text/x-python",
   "name": "python",
   "nbconvert_exporter": "python",
   "pygments_lexer": "ipython3",
   "version": "3.10.8"
  }
 },
 "nbformat": 4,
 "nbformat_minor": 2
}
