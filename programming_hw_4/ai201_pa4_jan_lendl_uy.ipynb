{
 "cells": [
  {
   "cell_type": "markdown",
   "metadata": {},
   "source": [
    "# AI 201 Programming Assignment 4\n",
    "## Perceptron Classifier boosted with Adaboost vs. SVM\n",
    "\n",
    "Submitted by: \n",
    "Jan Lendl R. Uy, 2019-00312"
   ]
  },
  {
   "cell_type": "markdown",
   "metadata": {},
   "source": [
    "## Install and import necessary libraries\n",
    "- numpy\n",
    "- scikit-learn"
   ]
  },
  {
   "cell_type": "code",
   "execution_count": 29,
   "metadata": {},
   "outputs": [
    {
     "name": "stdout",
     "output_type": "stream",
     "text": [
      "Requirement already satisfied: numpy in ./.venv/lib/python3.11/site-packages (2.1.3)\n",
      "Requirement already satisfied: scikit-learn in ./.venv/lib/python3.11/site-packages (1.5.2)\n",
      "Requirement already satisfied: scipy>=1.6.0 in ./.venv/lib/python3.11/site-packages (from scikit-learn) (1.14.1)\n",
      "Requirement already satisfied: joblib>=1.2.0 in ./.venv/lib/python3.11/site-packages (from scikit-learn) (1.4.2)\n",
      "Requirement already satisfied: threadpoolctl>=3.1.0 in ./.venv/lib/python3.11/site-packages (from scikit-learn) (3.5.0)\n"
     ]
    }
   ],
   "source": [
    "!pip install numpy scikit-learn"
   ]
  },
  {
   "cell_type": "code",
   "execution_count": 30,
   "metadata": {},
   "outputs": [],
   "source": [
    "import time\n",
    "import random\n",
    "import numpy as np\n",
    "from sklearn.svm import SVC"
   ]
  },
  {
   "cell_type": "code",
   "execution_count": 31,
   "metadata": {},
   "outputs": [],
   "source": [
    "BANANA_DATASET = \"banana_data.csv\"\n",
    "SPLICE_DATASET = \"splice_data.csv\""
   ]
  },
  {
   "cell_type": "markdown",
   "metadata": {},
   "source": [
    "## Read the banana and splice datasets"
   ]
  },
  {
   "cell_type": "code",
   "execution_count": 32,
   "metadata": {},
   "outputs": [],
   "source": [
    "def read_dataset(filepath):\n",
    "    # Load the entire dataset using numpy\n",
    "    data = np.loadtxt(filepath, delimiter=\",\")\n",
    "    \n",
    "    # Separate features and labels\n",
    "    y = data[:, 0]  # First column contains the labels\n",
    "    X = data[:, 1:]  # Succeeding columns contain the features\n",
    "    \n",
    "    return X, y"
   ]
  },
  {
   "cell_type": "code",
   "execution_count": 33,
   "metadata": {},
   "outputs": [
    {
     "name": "stdout",
     "output_type": "stream",
     "text": [
      "X_banana: (5300, 2)\n",
      "y_banana: (5300,)\n",
      "X_splice: (2991, 60)\n",
      "y_splice: (2991,)\n"
     ]
    }
   ],
   "source": [
    "X_banana, y_banana = read_dataset(BANANA_DATASET)\n",
    "X_splice, y_splice = read_dataset(SPLICE_DATASET)\n",
    "\n",
    "print(f\"X_banana: {X_banana.shape}\")\n",
    "print(f\"y_banana: {y_banana.shape}\")\n",
    "print(f\"X_splice: {X_splice.shape}\")\n",
    "print(f\"y_splice: {y_splice.shape}\")"
   ]
  },
  {
   "cell_type": "markdown",
   "metadata": {},
   "source": [
    "## Split the datasets into training and test sets\n",
    "- Banana dataset\n",
    "    - Training: 400\n",
    "    - Test: 4900\n",
    "- Splice dataset:\n",
    "    - Training: 1000\n",
    "    - Test: 2175"
   ]
  },
  {
   "cell_type": "code",
   "execution_count": 34,
   "metadata": {},
   "outputs": [],
   "source": [
    "def train_test_split(X, y, test_size=0.3, random_state=None):\n",
    "    if random_state is not None:\n",
    "        random.seed(random_state)\n",
    "    \n",
    "    # Create list of indices and shuffle it\n",
    "    indices = list(range(len(X)))\n",
    "    random.shuffle(indices)\n",
    "    \n",
    "    # Calculate split point\n",
    "    split = int(len(X) * (1 - test_size))\n",
    "    \n",
    "    # Split the data\n",
    "    train_indices = indices[:split]\n",
    "    test_indices = indices[split:]\n",
    "    \n",
    "    X_train = np.array([X[i] for i in train_indices])\n",
    "    X_test = np.array([X[i] for i in test_indices])\n",
    "    y_train = np.array([y[i] for i in train_indices])\n",
    "    y_test = np.array([y[i] for i in test_indices])\n",
    "    \n",
    "    return X_train, X_test, y_train, y_test"
   ]
  },
  {
   "cell_type": "code",
   "execution_count": 35,
   "metadata": {},
   "outputs": [
    {
     "name": "stdout",
     "output_type": "stream",
     "text": [
      "X_banana_train: (400, 2)\n",
      "X_banana_test: (4900, 2)\n",
      "y_banana_train: (400,)\n",
      "y_banana_test: (4900,)\n"
     ]
    }
   ],
   "source": [
    "X_banana_train, X_banana_test, y_banana_train, y_banana_test = train_test_split(X_banana, \n",
    "                                                                                y_banana, \n",
    "                                                                                test_size=(4900-1)/X_banana.shape[0], \n",
    "                                                                                random_state=0)\n",
    "\n",
    "print(f\"X_banana_train: {X_banana_train.shape}\")\n",
    "print(f\"X_banana_test: {X_banana_test.shape}\")\n",
    "print(f\"y_banana_train: {y_banana_train.shape}\")\n",
    "print(f\"y_banana_test: {y_banana_test.shape}\")"
   ]
  },
  {
   "cell_type": "code",
   "execution_count": 36,
   "metadata": {},
   "outputs": [
    {
     "name": "stdout",
     "output_type": "stream",
     "text": [
      "X_splice_train: (816, 60)\n",
      "X_splice_test: (2175, 60)\n",
      "y_splice_train: (816,)\n",
      "y_splice_test: (2175,)\n"
     ]
    }
   ],
   "source": [
    "X_splice_train, X_splice_test, y_splice_train, y_splice_test = train_test_split(X_splice,\n",
    "                                                                                y_splice, \n",
    "                                                                                test_size=2175/X_splice.shape[0], \n",
    "                                                                                random_state=0)\n",
    "\n",
    "print(f\"X_splice_train: {X_splice_train.shape}\")\n",
    "print(f\"X_splice_test: {X_splice_test.shape}\")\n",
    "print(f\"y_splice_train: {y_splice_train.shape}\")\n",
    "print(f\"y_splice_test: {y_splice_test.shape}\")"
   ]
  },
  {
   "cell_type": "markdown",
   "metadata": {},
   "source": [
    "## Perfomance metric: Accuracy"
   ]
  },
  {
   "cell_type": "code",
   "execution_count": 37,
   "metadata": {},
   "outputs": [],
   "source": [
    "def accuracy_score(y_true, y_pred):    \n",
    "    # Calculate accuracy\n",
    "    return np.mean(y_true == y_pred)"
   ]
  },
  {
   "cell_type": "markdown",
   "metadata": {},
   "source": [
    "## Perceptron Classifier\n",
    "- classify()\n",
    "- predict()"
   ]
  },
  {
   "cell_type": "code",
   "execution_count": 38,
   "metadata": {},
   "outputs": [],
   "source": [
    "class PerceptronClassifier:\n",
    "    \n",
    "    def __init__(self):\n",
    "        pass\n",
    "    \n",
    "    def classify(self, max_iter_cnt=10000):\n",
    "        pass\n",
    "    \n",
    "    def predict(self):\n",
    "        pass"
   ]
  },
  {
   "cell_type": "markdown",
   "metadata": {},
   "source": [
    "## Adaboost\n",
    "- adabtrain()\n",
    "- adabpredict()"
   ]
  },
  {
   "cell_type": "code",
   "execution_count": 39,
   "metadata": {},
   "outputs": [],
   "source": [
    "class AdaBoost:\n",
    "    \n",
    "    def __init__(self, k=10):\n",
    "        self.k = k\n",
    "        pass\n",
    "    \n",
    "    def adabtrain(self):\n",
    "        pass\n",
    "    \n",
    "    def adabpredict(self):\n",
    "        pass"
   ]
  },
  {
   "cell_type": "markdown",
   "metadata": {},
   "source": [
    "## SVM"
   ]
  },
  {
   "cell_type": "code",
   "execution_count": 40,
   "metadata": {},
   "outputs": [
    {
     "name": "stdout",
     "output_type": "stream",
     "text": [
      "SVM Accuracy on Banana Dataset: 0.88000\n",
      "SVM Training Time: 0.00221 s\n",
      "SVM Testing Time: 0.03052 s\n"
     ]
    }
   ],
   "source": [
    "# Initialize an SVM for classification then train\n",
    "svc_banana = SVC()\n",
    "\n",
    "start_time = time.time()\n",
    "svc_banana.fit(X_banana_train, y_banana_train)\n",
    "svc_banana_training_time = time.time() - start_time\n",
    "\n",
    "# Report the accuracy, training and test speeds of the \n",
    "# trained SVC on the banana dataset\n",
    "start_time = time.time()\n",
    "y_banana_pred = svc_banana.predict(X_banana_test)\n",
    "svc_banana_testing_time = time.time() - start_time\n",
    "\n",
    "svc_banana_accuracy = accuracy_score(y_banana_pred, y_banana_test)\n",
    "\n",
    "print(f\"SVM Accuracy on Banana Dataset: {svc_banana_accuracy:.5f}\")\n",
    "print(f\"SVM Training Time: {svc_banana_training_time:.5f} s\")\n",
    "print(f\"SVM Testing Time: {svc_banana_testing_time:.5f} s\")"
   ]
  },
  {
   "cell_type": "code",
   "execution_count": 41,
   "metadata": {},
   "outputs": [
    {
     "name": "stdout",
     "output_type": "stream",
     "text": [
      "SVM Accuracy on Splice Dataset: 0.89149\n",
      "SVM Training Time: 0.01625 s\n",
      "SVM Testing Time: 0.08796 s\n"
     ]
    }
   ],
   "source": [
    "# Initialize an SVM for classification then train\n",
    "svc_splice= SVC()\n",
    "start_time = time.time()\n",
    "svc_splice.fit(X_splice_train, y_splice_train)\n",
    "svc_splice_training_time = time.time() - start_time\n",
    "\n",
    "# Report the accuracy, training and test speeds of the \n",
    "# trained SVC on the splice dataset\n",
    "start_time = time.time()\n",
    "y_splice_pred = svc_splice.predict(X_splice_test)\n",
    "svc_splice_testing_time = time.time() - start_time\n",
    "\n",
    "svc_splice_accuracy = accuracy_score(y_splice_pred, y_splice_test)\n",
    "\n",
    "print(f\"SVM Accuracy on Splice Dataset: {svc_splice_accuracy:.5f}\")\n",
    "print(f\"SVM Training Time: {svc_splice_training_time:.5f} s\")\n",
    "print(f\"SVM Testing Time: {svc_splice_testing_time:.5f} s\")"
   ]
  }
 ],
 "metadata": {
  "kernelspec": {
   "display_name": ".venv",
   "language": "python",
   "name": "python3"
  },
  "language_info": {
   "codemirror_mode": {
    "name": "ipython",
    "version": 3
   },
   "file_extension": ".py",
   "mimetype": "text/x-python",
   "name": "python",
   "nbconvert_exporter": "python",
   "pygments_lexer": "ipython3",
   "version": "3.11.3"
  }
 },
 "nbformat": 4,
 "nbformat_minor": 2
}
