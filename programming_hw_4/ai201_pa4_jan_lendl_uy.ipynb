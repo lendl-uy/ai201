{
 "cells": [
  {
   "cell_type": "markdown",
   "metadata": {},
   "source": [
    "# AI 201 Programming Assignment 4\n",
    "## Boosted Perceptron vs. SVM\n",
    "\n",
    "Submitted by: \n",
    "Jan Lendl R. Uy, 2019-00312"
   ]
  },
  {
   "cell_type": "markdown",
   "metadata": {},
   "source": [
    "## Install and import necessary libraries\n",
    "- numpy\n",
    "- scikit-learn\n",
    "- matplotlib"
   ]
  },
  {
   "cell_type": "code",
   "execution_count": 1,
   "metadata": {},
   "outputs": [
    {
     "name": "stdout",
     "output_type": "stream",
     "text": [
      "Requirement already satisfied: numpy in ./.venv/lib/python3.11/site-packages (2.1.3)\n",
      "Requirement already satisfied: scikit-learn in ./.venv/lib/python3.11/site-packages (1.5.2)\n",
      "Requirement already satisfied: matplotlib in ./.venv/lib/python3.11/site-packages (3.9.2)\n",
      "Requirement already satisfied: scipy>=1.6.0 in ./.venv/lib/python3.11/site-packages (from scikit-learn) (1.14.1)\n",
      "Requirement already satisfied: joblib>=1.2.0 in ./.venv/lib/python3.11/site-packages (from scikit-learn) (1.4.2)\n",
      "Requirement already satisfied: threadpoolctl>=3.1.0 in ./.venv/lib/python3.11/site-packages (from scikit-learn) (3.5.0)\n",
      "Requirement already satisfied: contourpy>=1.0.1 in ./.venv/lib/python3.11/site-packages (from matplotlib) (1.3.0)\n",
      "Requirement already satisfied: cycler>=0.10 in ./.venv/lib/python3.11/site-packages (from matplotlib) (0.12.1)\n",
      "Requirement already satisfied: fonttools>=4.22.0 in ./.venv/lib/python3.11/site-packages (from matplotlib) (4.54.1)\n",
      "Requirement already satisfied: kiwisolver>=1.3.1 in ./.venv/lib/python3.11/site-packages (from matplotlib) (1.4.7)\n",
      "Requirement already satisfied: packaging>=20.0 in ./.venv/lib/python3.11/site-packages (from matplotlib) (24.1)\n",
      "Requirement already satisfied: pillow>=8 in ./.venv/lib/python3.11/site-packages (from matplotlib) (11.0.0)\n",
      "Requirement already satisfied: pyparsing>=2.3.1 in ./.venv/lib/python3.11/site-packages (from matplotlib) (3.2.0)\n",
      "Requirement already satisfied: python-dateutil>=2.7 in ./.venv/lib/python3.11/site-packages (from matplotlib) (2.9.0.post0)\n",
      "Requirement already satisfied: six>=1.5 in ./.venv/lib/python3.11/site-packages (from python-dateutil>=2.7->matplotlib) (1.16.0)\n"
     ]
    }
   ],
   "source": [
    "!pip install numpy scikit-learn matplotlib"
   ]
  },
  {
   "cell_type": "code",
   "execution_count": 2,
   "metadata": {},
   "outputs": [],
   "source": [
    "import time\n",
    "import random\n",
    "import numpy as np\n",
    "import matplotlib.pyplot as plt\n",
    "from sklearn.svm import SVC\n",
    "from sklearn.model_selection import RandomizedSearchCV"
   ]
  },
  {
   "cell_type": "code",
   "execution_count": 3,
   "metadata": {},
   "outputs": [],
   "source": [
    "BANANA_DATASET = \"banana_data.csv\"\n",
    "SPLICE_DATASET = \"splice_data.csv\""
   ]
  },
  {
   "cell_type": "markdown",
   "metadata": {},
   "source": [
    "## Read the banana and splice datasets"
   ]
  },
  {
   "cell_type": "code",
   "execution_count": 4,
   "metadata": {},
   "outputs": [],
   "source": [
    "def read_dataset(filepath):\n",
    "    # Load the entire dataset using numpy\n",
    "    data = np.loadtxt(filepath, delimiter=\",\")\n",
    "    \n",
    "    # Separate features and labels\n",
    "    y = data[:, 0]  # First column contains the labels\n",
    "    X = data[:, 1:]  # Succeeding columns contain the features\n",
    "    \n",
    "    return X, y"
   ]
  },
  {
   "cell_type": "code",
   "execution_count": 5,
   "metadata": {},
   "outputs": [
    {
     "name": "stdout",
     "output_type": "stream",
     "text": [
      "X_banana: (5300, 2)\n",
      "y_banana: (5300,)\n",
      "X_splice: (2991, 60)\n",
      "y_splice: (2991,)\n"
     ]
    }
   ],
   "source": [
    "X_banana, y_banana = read_dataset(BANANA_DATASET)\n",
    "X_splice, y_splice = read_dataset(SPLICE_DATASET)\n",
    "\n",
    "print(f\"X_banana: {X_banana.shape}\")\n",
    "print(f\"y_banana: {y_banana.shape}\")\n",
    "print(f\"X_splice: {X_splice.shape}\")\n",
    "print(f\"y_splice: {y_splice.shape}\")"
   ]
  },
  {
   "cell_type": "markdown",
   "metadata": {},
   "source": [
    "## Split the datasets into training and test sets\n",
    "- Banana dataset\n",
    "    - Training: 400 samples\n",
    "    - Test: 4900 samples\n",
    "- Splice dataset:\n",
    "    - Training: 1000 samples\n",
    "    - Test: 2175 samples"
   ]
  },
  {
   "cell_type": "code",
   "execution_count": 6,
   "metadata": {},
   "outputs": [],
   "source": [
    "def train_test_split(X, y, test_size=0.3, random_state=None):\n",
    "    if random_state is not None:\n",
    "        random.seed(random_state)\n",
    "    \n",
    "    # Create list of indices and shuffle it\n",
    "    indices = list(range(len(X)))\n",
    "    random.shuffle(indices)\n",
    "    \n",
    "    # Calculate split point\n",
    "    split = int(len(X) * (1 - test_size))\n",
    "    \n",
    "    # Split the data\n",
    "    train_indices = indices[:split]\n",
    "    test_indices = indices[split:]\n",
    "    \n",
    "    X_train = np.array([X[i] for i in train_indices])\n",
    "    X_test = np.array([X[i] for i in test_indices])\n",
    "    y_train = np.array([y[i] for i in train_indices])\n",
    "    y_test = np.array([y[i] for i in test_indices])\n",
    "    \n",
    "    return X_train, X_test, y_train, y_test"
   ]
  },
  {
   "cell_type": "code",
   "execution_count": 7,
   "metadata": {},
   "outputs": [
    {
     "name": "stdout",
     "output_type": "stream",
     "text": [
      "X_banana_train: (400, 2)\n",
      "X_banana_test: (4900, 2)\n",
      "y_banana_train: (400,)\n",
      "y_banana_test: (4900,)\n"
     ]
    }
   ],
   "source": [
    "X_banana_train, X_banana_test, y_banana_train, y_banana_test = train_test_split(X_banana, \n",
    "                                                                                y_banana, \n",
    "                                                                                test_size=(4900-1)/X_banana.shape[0], \n",
    "                                                                                random_state=0)\n",
    "\n",
    "print(f\"X_banana_train: {X_banana_train.shape}\")\n",
    "print(f\"X_banana_test: {X_banana_test.shape}\")\n",
    "print(f\"y_banana_train: {y_banana_train.shape}\")\n",
    "print(f\"y_banana_test: {y_banana_test.shape}\")"
   ]
  },
  {
   "cell_type": "code",
   "execution_count": 8,
   "metadata": {},
   "outputs": [
    {
     "name": "stdout",
     "output_type": "stream",
     "text": [
      "X_splice_train: (816, 60)\n",
      "X_splice_test: (2175, 60)\n",
      "y_splice_train: (816,)\n",
      "y_splice_test: (2175,)\n"
     ]
    }
   ],
   "source": [
    "X_splice_train, X_splice_test, y_splice_train, y_splice_test = train_test_split(X_splice,\n",
    "                                                                                y_splice, \n",
    "                                                                                test_size=2175/X_splice.shape[0], \n",
    "                                                                                random_state=0)\n",
    "\n",
    "print(f\"X_splice_train: {X_splice_train.shape}\")\n",
    "print(f\"X_splice_test: {X_splice_test.shape}\")\n",
    "print(f\"y_splice_train: {y_splice_train.shape}\")\n",
    "print(f\"y_splice_test: {y_splice_test.shape}\")"
   ]
  },
  {
   "cell_type": "markdown",
   "metadata": {},
   "source": [
    "## Perfomance Metric: Accuracy\n",
    "Accuracy will be used to evaluate the performance of the Boosted Perceptron and Support Vector Machine on the banana and splice datasets"
   ]
  },
  {
   "cell_type": "code",
   "execution_count": 9,
   "metadata": {},
   "outputs": [],
   "source": [
    "def accuracy_score(y_true, y_pred):    \n",
    "    # Calculate accuracy\n",
    "    return np.mean(y_true == y_pred)"
   ]
  },
  {
   "cell_type": "markdown",
   "metadata": {},
   "source": [
    "## Perceptron Classifier\n",
    "The Perceptron Classifier was implemented from scratch using only numpy. It has the following methods:\n",
    "- classify()\n",
    "    - Trains the Perceptron Classifier using the Pocket Algorithm with the maximum iteration count set to 10,000 by default\n",
    "- predict()\n",
    "    - Perform inferences on a test set for the evaluation of model performance\n",
    "    - Outputs the predictions of the trained Perceptron Classifier"
   ]
  },
  {
   "cell_type": "code",
   "execution_count": null,
   "metadata": {},
   "outputs": [],
   "source": [
    "class PerceptronClassifier:\n",
    "    \n",
    "    def __init__(self):\n",
    "        \"\"\"Initialize the Perceptron Classifier\"\"\"\n",
    "        self.w = None  # weight vector (including bias)\n",
    "        self.d = None  # number of features\n",
    "        \n",
    "    def classify(self, X, y, max_iter_cnt=10000, random_state=0):\n",
    "        \"\"\"Train the perceptron using the Pocket Algorithm\"\"\"\n",
    "        # Add bias to X\n",
    "        N, self.d = X.shape\n",
    "        X_with_bias = np.hstack((np.ones((N, 1)), X))  # Add column of 1s for bias\n",
    "        \n",
    "        # Initialize variables as per pocket algorithm\n",
    "        v = np.zeros(self.d + 1)  # Current weight vector\n",
    "        w = np.zeros(self.d + 1)  # pocket weight vector\n",
    "        n_v = 0  # Consecutive correct classifications for v\n",
    "        n_w = 0  # Consecutive correct classifications for w\n",
    "        iter_cnt = 0\n",
    "        \n",
    "        while iter_cnt < max_iter_cnt:\n",
    "            # Randomly choose an input pattern\n",
    "            j = np.random.randint(0, N)\n",
    "            x_j = X_with_bias[j]\n",
    "            y_j = y[j]\n",
    "            \n",
    "            # Compute neuron's output\n",
    "            y_pred = 1 if np.dot(v, x_j) >= 0 else -1\n",
    "            \n",
    "            # Check if correctly classified\n",
    "            if y_pred == y_j:\n",
    "                n_v += 1\n",
    "                # Update pocket weights if current weights are better\n",
    "                if n_v > n_w:\n",
    "                    w = v.copy()\n",
    "                    n_w = n_v\n",
    "            else:\n",
    "                # Update weights if misclassified\n",
    "                v = v + y_j * x_j\n",
    "                n_v = 0\n",
    "            \n",
    "            iter_cnt += 1\n",
    "        \n",
    "        # Store the best weights found\n",
    "        self.w = w\n",
    "    \n",
    "    def predict(self, X):\n",
    "        \"\"\"Predict labels for test data\"\"\"\n",
    "        if self.w is None:\n",
    "            raise ValueError(\"Model not trained yet. Call classify() first.\")\n",
    "        \n",
    "        # Add bias to X\n",
    "        X_with_bias = np.hstack((np.ones((X.shape[0], 1)), X))\n",
    "        \n",
    "        # Compute predictions\n",
    "        y_pred = np.where(np.dot(X_with_bias, self.w) >= 0, 1, -1)\n",
    "        \n",
    "        return y_pred\n",
    "    \n",
    "    def compute_error(self, y_true, y_pred):\n",
    "        \"\"\"Compute sum of squared errors\"\"\"\n",
    "        return np.sum((y_true - y_pred) ** 2)"
   ]
  },
  {
   "cell_type": "markdown",
   "metadata": {},
   "source": [
    "### Create synthetic training and test sets for the Perceptron Classifier\n",
    "These synthetic datasets will be used to validate that the implementation works as intended"
   ]
  },
  {
   "cell_type": "code",
   "execution_count": 11,
   "metadata": {},
   "outputs": [],
   "source": [
    "def generate_classification_data():\n",
    "    # Generate 100 points for class -1 from N([0,0], I)\n",
    "    class_neg = np.random.multivariate_normal(\n",
    "        mean=[0, 0],\n",
    "        cov=np.eye(2),\n",
    "        size=100\n",
    "    )\n",
    "    \n",
    "    # Generate 100 points for class +1 from N([10,10], I)\n",
    "    class_pos = np.random.multivariate_normal(\n",
    "        mean=[10, 10],\n",
    "        cov=np.eye(2),\n",
    "        size=100\n",
    "    )\n",
    "    \n",
    "    # Split each class into training (50) and test (50) sets\n",
    "    X_train = np.vstack((class_neg[:50], class_pos[:50]))\n",
    "    X_test = np.vstack((class_neg[50:], class_pos[50:]))\n",
    "    \n",
    "    # Create corresponding labels\n",
    "    y_train = np.array([-1]*50 + [1]*50)\n",
    "    y_test = np.array([-1]*50 + [1]*50)\n",
    "    \n",
    "    return X_train, X_test, y_train, y_test"
   ]
  },
  {
   "cell_type": "markdown",
   "metadata": {},
   "source": [
    "### Train and evalaute the Perceptron Classifier on the synthetic dataset\n",
    "Sum of squared errors must approach zero to indicate that training implementation (i.e. Pocket Algorithm) is correct"
   ]
  },
  {
   "cell_type": "code",
   "execution_count": 12,
   "metadata": {},
   "outputs": [
    {
     "name": "stdout",
     "output_type": "stream",
     "text": [
      "Sum of Squared Errors of the Perceptron Classifier on Synthetic Test Set: 0\n"
     ]
    }
   ],
   "source": [
    "X_synthetic_train, X_synthetic_test, y_synthetic_train, y_synthetic_test = generate_classification_data()\n",
    "perceptron = PerceptronClassifier()\n",
    "perceptron.classify(X_synthetic_train, y_synthetic_train)\n",
    "y_synthetic_pred = perceptron.predict(X_synthetic_test)\n",
    "print(f\"Sum of Squared Errors of the Perceptron Classifier on Synthetic Test Set: {perceptron.compute_error(y_synthetic_pred, y_synthetic_test)}\")"
   ]
  },
  {
   "cell_type": "markdown",
   "metadata": {},
   "source": [
    "## Adaboost\n",
    "- adabtrain()\n",
    "- adabpredict()"
   ]
  },
  {
   "cell_type": "code",
   "execution_count": null,
   "metadata": {},
   "outputs": [],
   "source": [
    "class AdaBoost:\n",
    "    def __init__(self, k=10):\n",
    "        \"\"\"Initialize AdaBoost with K weak learners\"\"\"\n",
    "        self.k = k  # Number of weak learners\n",
    "        self.alphas = []  # Coefficients for each weak learner\n",
    "        self.weak_learners = []  # List of trained perceptrons\n",
    "    \n",
    "    def adabtrain(self, X, y):\n",
    "        \"\"\"Train AdaBoost using Perceptron as weak learner\"\"\"\n",
    "        N = X.shape[0]\n",
    "        # Initialize weights uniformly\n",
    "        w = np.ones(N) / N\n",
    "        \n",
    "        self.alphas = []\n",
    "        self.weak_learners = []\n",
    "        \n",
    "        for t in range(self.k):\n",
    "            # 1. Sample training set with replacement according to weights\n",
    "            indices = np.random.choice(N, size=N, p=w)\n",
    "            X_sampled = X[indices]\n",
    "            y_sampled = y[indices]\n",
    "            \n",
    "            # 2. Train weak learner\n",
    "            weak_learner = PerceptronClassifier()\n",
    "            weak_learner.classify(X_sampled, y_sampled)\n",
    "            \n",
    "            # 3. Compute weighted error on original dataset\n",
    "            h = weak_learner.predict(X)\n",
    "            incorrect = (h != y)\n",
    "            epsilon = np.sum(w * incorrect)\n",
    "            \n",
    "            # Check if weak learner is better than random\n",
    "            if epsilon > 0.5:\n",
    "                continue  # Skip this iteration if weak learner is worse than random\n",
    "                \n",
    "            # 4. Compute coefficient alpha\n",
    "            alpha = 0.5 * np.log((1 - epsilon) / (epsilon))  # Add small constant to prevent division by zero\n",
    "            \n",
    "            # 5. Update weights\n",
    "            w = w * np.exp(-alpha * y * h)\n",
    "            \n",
    "            # Normalize weights\n",
    "            w = w / np.sum(w)\n",
    "            \n",
    "            # Store weak learner and its coefficient\n",
    "            self.weak_learners.append(weak_learner)\n",
    "            self.alphas.append(alpha)\n",
    "        \n",
    "        return self.alphas, self.weak_learners\n",
    "    \n",
    "    def adabpredict(self, X):\n",
    "        \"\"\"Make predictions using trained ensemble\"\"\"\n",
    "        if not self.weak_learners:\n",
    "            raise ValueError(\"Model not trained yet. Call adabtrain() first.\")\n",
    "        \n",
    "        # Get predictions from all weak learners\n",
    "        N = X.shape[0]\n",
    "        weighted_predictions = np.zeros(N)\n",
    "        \n",
    "        # Combine weak learners using their coefficients\n",
    "        for alpha, learner in zip(self.alphas, self.weak_learners):\n",
    "            predictions = learner.predict(X)\n",
    "            weighted_predictions += alpha * predictions\n",
    "        \n",
    "        # Return final predictions\n",
    "        return np.sign(weighted_predictions)"
   ]
  },
  {
   "cell_type": "markdown",
   "metadata": {},
   "source": [
    "## Construct the Boosted Perceptron\n",
    "Build K = 100 Perceptron Classifiers for an initial evaluation of the ensemble model on the two datasets"
   ]
  },
  {
   "cell_type": "markdown",
   "metadata": {},
   "source": [
    "### Train and evaluate the Boosted Perceptron on the Banana Dataset"
   ]
  },
  {
   "cell_type": "code",
   "execution_count": 14,
   "metadata": {},
   "outputs": [
    {
     "name": "stdout",
     "output_type": "stream",
     "text": [
      "Boosted Perceptron Accuracy on Banana Dataset: 0.80796\n",
      "Boosted Perceptron Training Time: 1.95614 s\n",
      "Boosted Perceptron Testing Time: 0.00334 s\n"
     ]
    }
   ],
   "source": [
    "boosted_perceptron = AdaBoost(k=100)\n",
    "\n",
    "start_time = time.time()\n",
    "boosted_perceptron.adabtrain(X_banana_train, y_banana_train)\n",
    "bp_banana_training_time = time.time() - start_time\n",
    "\n",
    "start_time = time.time()\n",
    "y_banana_pred = boosted_perceptron.adabpredict(X_banana_test)\n",
    "bp_banana_testing_time = time.time() - start_time\n",
    "\n",
    "bp_banana_accuracy = accuracy_score(y_banana_pred, y_banana_test)\n",
    "\n",
    "print(f\"Boosted Perceptron Accuracy on Banana Dataset: {bp_banana_accuracy:.5f}\")\n",
    "print(f\"Boosted Perceptron Training Time: {bp_banana_training_time:.5f} s\")\n",
    "print(f\"Boosted Perceptron Testing Time: {bp_banana_testing_time:.5f} s\")"
   ]
  },
  {
   "cell_type": "markdown",
   "metadata": {},
   "source": [
    "### Train and evaluate the Boosted Perceptron on the Splice Dataset"
   ]
  },
  {
   "cell_type": "code",
   "execution_count": 15,
   "metadata": {},
   "outputs": [
    {
     "name": "stdout",
     "output_type": "stream",
     "text": [
      "Boosted Perceptron Accuracy on Splice Dataset: 0.82207\n",
      "Boosted Perceptron Training Time: 2.06971 s\n",
      "Boosted Perceptron Testing Time: 0.00875 s\n"
     ]
    }
   ],
   "source": [
    "boosted_perceptron = AdaBoost(k=100)\n",
    "\n",
    "start_time = time.time()\n",
    "boosted_perceptron.adabtrain(X_splice_train, y_splice_train)\n",
    "bp_splice_training_time = time.time() - start_time\n",
    "\n",
    "start_time = time.time()\n",
    "y_splice_pred = boosted_perceptron.adabpredict(X_splice_test)\n",
    "bp_splice_testing_time = time.time() - start_time\n",
    "\n",
    "bp_splice_accuracy = accuracy_score(y_splice_pred, y_splice_test)\n",
    "\n",
    "print(f\"Boosted Perceptron Accuracy on Splice Dataset: {bp_splice_accuracy:.5f}\")\n",
    "print(f\"Boosted Perceptron Training Time: {bp_splice_training_time:.5f} s\")\n",
    "print(f\"Boosted Perceptron Testing Time: {bp_splice_testing_time:.5f} s\")"
   ]
  },
  {
   "cell_type": "markdown",
   "metadata": {},
   "source": [
    "### Get the performance of the Boosted Perceptron for varying $k$"
   ]
  },
  {
   "cell_type": "code",
   "execution_count": 16,
   "metadata": {},
   "outputs": [],
   "source": [
    "def evaluate_boosted_perceptron_varying_k(k_values, X_train, y_train, X_test, y_test):\n",
    "    train_accuracies = []\n",
    "    test_accuracies = []\n",
    "    train_times = []\n",
    "    test_times = []\n",
    "\n",
    "    for k in k_values:\n",
    "        print(f\"Training AdaBoost with k={k}\")\n",
    "        \n",
    "        # Initialize and train model\n",
    "        boosted_perceptron = AdaBoost(k=k)\n",
    "        \n",
    "        # Training time\n",
    "        start_time = time.time()\n",
    "        boosted_perceptron.adabtrain(X_train, y_train)\n",
    "        train_time = time.time() - start_time\n",
    "        y_train_pred = boosted_perceptron.adabpredict(X_train)\n",
    "        train_times.append(train_time)\n",
    "        \n",
    "        # Testing time\n",
    "        start_time = time.time()\n",
    "        y_test_pred = boosted_perceptron.adabpredict(X_test)\n",
    "        test_time = time.time() - start_time\n",
    "        test_times.append(test_time)\n",
    "        \n",
    "        # Calculate accuracies\n",
    "        train_acc = accuracy_score(y_train_pred, y_train)\n",
    "        test_acc = accuracy_score(y_test_pred, y_test)\n",
    "        \n",
    "        train_accuracies.append(train_acc)\n",
    "        test_accuracies.append(test_acc)\n",
    "                \n",
    "    return train_accuracies, test_accuracies"
   ]
  },
  {
   "cell_type": "code",
   "execution_count": 17,
   "metadata": {},
   "outputs": [],
   "source": [
    "def plot_results(k_values, train_accuracies, test_accuracies):\n",
    "    # Create figure with two subplots\n",
    "    fig, (ax1, ax2) = plt.subplots(1, 2, figsize=(15, 6))    \n",
    "    \n",
    "    # Plot training accuracy\n",
    "    ax1.plot(k_values, train_accuracies, 'b-', linewidth=2)\n",
    "    ax1.set_xlabel('Number of Weak Learners (K)')\n",
    "    ax1.set_ylabel('Accuracy')\n",
    "    ax1.set_title('Training Accuracy vs Number of Weak Learners')\n",
    "    ax1.grid(True)\n",
    "    ax1.set_ylim([min(train_accuracies)-0.05, max(train_accuracies)+0.05])\n",
    "    \n",
    "    # Plot testing accuracy\n",
    "    ax2.plot(k_values, test_accuracies, 'r-', linewidth=2)\n",
    "    ax2.set_xlabel('Number of Weak Learners (K)')\n",
    "    ax2.set_ylabel('Accuracy')\n",
    "    ax2.set_title('Testing Accuracy vs Number of Weak Learners')\n",
    "    ax2.grid(True)\n",
    "    ax2.set_ylim([min(test_accuracies)-0.05, max(test_accuracies)+0.05])\n",
    "        \n",
    "    plt.tight_layout()"
   ]
  },
  {
   "cell_type": "code",
   "execution_count": 18,
   "metadata": {},
   "outputs": [],
   "source": [
    "k_values = [i for i in range(10, 100, 10)] + [i for i in range(100, 1100, 100)]"
   ]
  },
  {
   "cell_type": "code",
   "execution_count": 19,
   "metadata": {},
   "outputs": [
    {
     "name": "stdout",
     "output_type": "stream",
     "text": [
      "Training AdaBoost with k=10\n",
      "Training AdaBoost with k=20\n",
      "Training AdaBoost with k=30\n",
      "Training AdaBoost with k=40\n",
      "Training AdaBoost with k=50\n",
      "Training AdaBoost with k=60\n",
      "Training AdaBoost with k=70\n",
      "Training AdaBoost with k=80\n",
      "Training AdaBoost with k=90\n",
      "Training AdaBoost with k=100\n",
      "Training AdaBoost with k=200\n",
      "Training AdaBoost with k=300\n",
      "Training AdaBoost with k=400\n",
      "Training AdaBoost with k=500\n",
      "Training AdaBoost with k=600\n",
      "Training AdaBoost with k=700\n",
      "Training AdaBoost with k=800\n",
      "Training AdaBoost with k=900\n",
      "Training AdaBoost with k=1000\n"
     ]
    },
    {
     "data": {
      "image/png": "[encoded data removed]",
      "text/plain": [
       "<Figure size 1500x600 with 2 Axes>"
      ]
     },
     "metadata": {},
     "output_type": "display_data"
    }
   ],
   "source": [
    "banana_train_accuracies, banana_test_accuracies = evaluate_boosted_perceptron_varying_k(k_values, \n",
    "                                                                X_banana_train, \n",
    "                                                                y_banana_train, \n",
    "                                                                X_banana_test, \n",
    "                                                                y_banana_test)\n",
    "\n",
    "fig = plot_results(k_values, banana_train_accuracies, banana_test_accuracies)"
   ]
  },
  {
   "cell_type": "code",
   "execution_count": 20,
   "metadata": {},
   "outputs": [
    {
     "name": "stdout",
     "output_type": "stream",
     "text": [
      "Training AdaBoost with k=10\n",
      "Training AdaBoost with k=20\n",
      "Training AdaBoost with k=30\n",
      "Training AdaBoost with k=40\n",
      "Training AdaBoost with k=50\n",
      "Training AdaBoost with k=60\n",
      "Training AdaBoost with k=70\n",
      "Training AdaBoost with k=80\n",
      "Training AdaBoost with k=90\n",
      "Training AdaBoost with k=100\n",
      "Training AdaBoost with k=200\n",
      "Training AdaBoost with k=300\n",
      "Training AdaBoost with k=400\n",
      "Training AdaBoost with k=500\n",
      "Training AdaBoost with k=600\n",
      "Training AdaBoost with k=700\n",
      "Training AdaBoost with k=800\n",
      "Training AdaBoost with k=900\n",
      "Training AdaBoost with k=1000\n"
     ]
    },
    {
     "data": {
      "image/png": "[encoded data removed]",
      "text/plain": [
       "<Figure size 1500x600 with 2 Axes>"
      ]
     },
     "metadata": {},
     "output_type": "display_data"
    }
   ],
   "source": [
    "splice_train_accuracies, splice_test_accuracies = evaluate_boosted_perceptron_varying_k(k_values, \n",
    "                                                                X_splice_train, \n",
    "                                                                y_splice_train, \n",
    "                                                                X_splice_test, \n",
    "                                                                y_splice_test)\n",
    "\n",
    "plot_results(k_values, splice_train_accuracies, splice_test_accuracies)"
   ]
  },
  {
   "cell_type": "markdown",
   "metadata": {},
   "source": [
    "### Obtaining the best Boosted Perceptron Model"
   ]
  },
  {
   "cell_type": "code",
   "execution_count": 21,
   "metadata": {},
   "outputs": [
    {
     "name": "stdout",
     "output_type": "stream",
     "text": [
      "Boosted Perceptron Best Accuracy for Banana Dataset: 0.8814285714285715\n",
      "Boosted Perceptron Best K for Banana Dataset: 900\n",
      "Boosted Perceptron Best Accuracy for Splice Dataset: 0.8340229885057471\n",
      "Boosted Perceptron Best K for Splice Dataset: 1000\n"
     ]
    }
   ],
   "source": [
    "best_perf_banana_dataset = max(banana_test_accuracies)\n",
    "best_k_banana_dataset = k_values[banana_test_accuracies.index(best_perf_banana_dataset)]\n",
    "print(f\"Boosted Perceptron Best Accuracy for Banana Dataset: {best_perf_banana_dataset}\")\n",
    "print(f\"Boosted Perceptron Best K for Banana Dataset: {best_k_banana_dataset}\")\n",
    "\n",
    "best_perf_splice_dataset = max(splice_test_accuracies)\n",
    "best_k_splice_dataset = k_values[splice_test_accuracies.index(best_perf_splice_dataset)]\n",
    "print(f\"Boosted Perceptron Best Accuracy for Splice Dataset: {best_perf_splice_dataset}\")\n",
    "print(f\"Boosted Perceptron Best K for Splice Dataset: {best_k_splice_dataset}\")"
   ]
  },
  {
   "cell_type": "markdown",
   "metadata": {},
   "source": [
    "## SVM"
   ]
  },
  {
   "cell_type": "markdown",
   "metadata": {},
   "source": [
    "### Initialize the parameter distribution to be tested during hyperparameter tuning\n",
    "Random search will be performed to find the best set of parameters of SVM on the two datasets"
   ]
  },
  {
   "cell_type": "code",
   "execution_count": 69,
   "metadata": {},
   "outputs": [],
   "source": [
    "param_distributions = {\n",
    "   \"C\": np.exp(np.random.uniform(low=np.log(1e-3), high=np.log(1e2), size=10)),\n",
    "   \"kernel\": [\"linear\", \"rbf\", \"sigmoid\"],\n",
    "   \"gamma\": [\"scale\", \"auto\", 1e-2, 1e-1, 1, 10]\n",
    "}"
   ]
  },
  {
   "cell_type": "markdown",
   "metadata": {},
   "source": [
    "### Train and evaluate the Support Vector Classifier on the Banana Dataset"
   ]
  },
  {
   "cell_type": "code",
   "execution_count": 58,
   "metadata": {},
   "outputs": [
    {
     "name": "stdout",
     "output_type": "stream",
     "text": [
      "SVM Accuracy on Banana Dataset: 0.88000\n",
      "SVM Training Time: 0.00485 s\n",
      "SVM Testing Time: 0.10149 s\n"
     ]
    }
   ],
   "source": [
    "# Initialize an SVM for classification then train\n",
    "svc_banana = SVC()\n",
    "\n",
    "start_time = time.time()\n",
    "svc_banana.fit(X_banana_train, y_banana_train)\n",
    "svc_banana_training_time = time.time() - start_time\n",
    "\n",
    "# Report the accuracy, training and test speeds of the \n",
    "# trained SVC on the banana dataset\n",
    "start_time = time.time()\n",
    "y_banana_pred = svc_banana.predict(X_banana_test)\n",
    "svc_banana_testing_time = time.time() - start_time\n",
    "\n",
    "svc_banana_accuracy = accuracy_score(y_banana_pred, y_banana_test)\n",
    "\n",
    "print(f\"SVM Accuracy on Banana Dataset: {svc_banana_accuracy:.5f}\")\n",
    "print(f\"SVM Training Time: {svc_banana_training_time:.5f} s\")\n",
    "print(f\"SVM Testing Time: {svc_banana_testing_time:.5f} s\")"
   ]
  },
  {
   "cell_type": "markdown",
   "metadata": {},
   "source": [
    "### Tune the Support Vector Classifier on the Banana Dataset using Random Search"
   ]
  },
  {
   "cell_type": "code",
   "execution_count": 59,
   "metadata": {},
   "outputs": [
    {
     "name": "stdout",
     "output_type": "stream",
     "text": [
      "Fitting 5 folds for each of 30 candidates, totalling 150 fits\n",
      "Best SVM parameters for banana dataset: {'kernel': 'rbf', 'gamma': 'scale', 'C': np.float64(81.68533287282968)}\n",
      "SVM Best Accuracy on Banana Dataset: 0.88776\n",
      "SVM Training Time: 0.00185 s\n",
      "SVM Testing Time: 0.01851 s\n"
     ]
    }
   ],
   "source": [
    "svc_banana = SVC()\n",
    "random_search_banana = RandomizedSearchCV(\n",
    "   svc_banana, param_distributions,\n",
    "   n_iter=30, n_jobs=-1, verbose=1\n",
    ")\n",
    "\n",
    "random_search_banana.fit(X_banana_train, y_banana_train)\n",
    "\n",
    "svc_banana_best_params = random_search_banana.best_params_\n",
    "print(\"Best SVM parameters for banana dataset:\", svc_banana_best_params)\n",
    "svc_banana_best = SVC(C=svc_banana_best_params[\"C\"],\n",
    "                      kernel=svc_banana_best_params[\"kernel\"],\n",
    "                      gamma=svc_banana_best_params[\"gamma\"]\n",
    "                      )\n",
    "start_time = time.time()\n",
    "svc_banana_best.fit(X_banana_train, y_banana_train)\n",
    "svc_banana_training_time = time.time() - start_time\n",
    "\n",
    "# Test evaluation\n",
    "start_time = time.time()\n",
    "y_banana_pred = svc_banana_best.predict(X_banana_test)\n",
    "svc_banana_testing_time = time.time() - start_time\n",
    "\n",
    "svc_banana_accuracy = accuracy_score(y_banana_pred, y_banana_test)\n",
    "\n",
    "print(f\"SVM Best Accuracy on Banana Dataset: {svc_banana_accuracy:.5f}\")\n",
    "print(f\"SVM Training Time: {svc_banana_training_time:.5f} s\")\n",
    "print(f\"SVM Testing Time: {svc_banana_testing_time:.5f} s\")"
   ]
  },
  {
   "cell_type": "markdown",
   "metadata": {},
   "source": [
    "### Train and evaluate the Boosted Perceptron on the Splice Dataset"
   ]
  },
  {
   "cell_type": "code",
   "execution_count": 62,
   "metadata": {},
   "outputs": [
    {
     "name": "stdout",
     "output_type": "stream",
     "text": [
      "SVM Accuracy on Splice Dataset: 0.89149\n",
      "SVM Training Time: 0.02716 s\n",
      "SVM Testing Time: 0.08860 s\n"
     ]
    }
   ],
   "source": [
    "# Initialize an SVM for classification then train\n",
    "svc_splice= SVC()\n",
    "start_time = time.time()\n",
    "svc_splice.fit(X_splice_train, y_splice_train)\n",
    "svc_splice_training_time = time.time() - start_time\n",
    "\n",
    "# Report the accuracy, training and test speeds of the \n",
    "# trained SVC on the splice dataset\n",
    "start_time = time.time()\n",
    "y_splice_pred = svc_splice.predict(X_splice_test)\n",
    "svc_splice_testing_time = time.time() - start_time\n",
    "\n",
    "svc_splice_accuracy = accuracy_score(y_splice_pred, y_splice_test)\n",
    "\n",
    "print(f\"SVM Accuracy on Splice Dataset: {svc_splice_accuracy:.5f}\")\n",
    "print(f\"SVM Training Time: {svc_splice_training_time:.5f} s\")\n",
    "print(f\"SVM Testing Time: {svc_splice_testing_time:.5f} s\")"
   ]
  },
  {
   "cell_type": "markdown",
   "metadata": {},
   "source": [
    "### Tune the Support Vector Classifier on the Splice Dataset using Random Search"
   ]
  },
  {
   "cell_type": "code",
   "execution_count": 70,
   "metadata": {},
   "outputs": [
    {
     "name": "stdout",
     "output_type": "stream",
     "text": [
      "Fitting 5 folds for each of 30 candidates, totalling 150 fits\n",
      "Best SVM parameters for splice dataset: {'kernel': 'rbf', 'gamma': 'scale', 'C': np.float64(81.68533287282968)}\n",
      "SVM Best Accuracy on Splice Dataset: 0.89287\n",
      "SVM Training Time: 0.01877 s\n",
      "SVM Testing Time: 0.08352 s\n"
     ]
    }
   ],
   "source": [
    "svc_splice = SVC()\n",
    "random_search_splice = RandomizedSearchCV(\n",
    "   svc_splice, param_distributions,\n",
    "   n_iter=30, n_jobs=-1, verbose=1\n",
    ")\n",
    "\n",
    "random_search_splice.fit(X_splice_train, y_splice_train)\n",
    "\n",
    "svc_splice_best_params = random_search_splice.best_params_\n",
    "print(\"Best SVM parameters for splice dataset:\", svc_banana_best_params)\n",
    "svc_splice_best = SVC(C=svc_splice_best_params[\"C\"],\n",
    "                      kernel=svc_splice_best_params[\"kernel\"],\n",
    "                      gamma=svc_splice_best_params[\"gamma\"]\n",
    "                      )\n",
    "start_time = time.time()\n",
    "svc_splice_best.fit(X_splice_train, y_splice_train)\n",
    "svc_splice_training_time = time.time() - start_time\n",
    "\n",
    "start_time = time.time()\n",
    "y_splice_pred = svc_splice_best.predict(X_splice_test)\n",
    "svc_splice_testing_time = time.time() - start_time\n",
    "\n",
    "svc_splice_accuracy = accuracy_score(y_splice_pred, y_splice_test)\n",
    "\n",
    "print(f\"SVM Best Accuracy on Splice Dataset: {svc_splice_accuracy:.5f}\") \n",
    "print(f\"SVM Training Time: {svc_splice_training_time:.5f} s\")\n",
    "print(f\"SVM Testing Time: {svc_splice_testing_time:.5f} s\")"
   ]
  }
 ],
 "metadata": {
  "kernelspec": {
   "display_name": ".venv",
   "language": "python",
   "name": "python3"
  },
  "language_info": {
   "codemirror_mode": {
    "name": "ipython",
    "version": 3
   },
   "file_extension": ".py",
   "mimetype": "text/x-python",
   "name": "python",
   "nbconvert_exporter": "python",
   "pygments_lexer": "ipython3",
   "version": "3.11.3"
  }
 },
 "nbformat": 4,
 "nbformat_minor": 2
}
